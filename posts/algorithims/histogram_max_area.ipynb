{
 "cells": [
  {
   "cell_type": "raw",
   "metadata": {},
   "source": [
    "---\n",
    "title: The max area under a histogram\n",
    "date: 2023-08-08\n",
    "categories:\n",
    "- python\n",
    "code-fold: false\n",
    "toc: true\n",
    "---"
   ]
  },
  {
   "cell_type": "markdown",
   "metadata": {},
   "source": [
    "# Largest Rectangle under a histogram\n",
    "\n",
    "Problem description: https://leetcode.com/problems/largest-rectangle-in-histogram/"
   ]
  },
  {
   "cell_type": "code",
   "execution_count": 61,
   "metadata": {},
   "outputs": [],
   "source": [
    "#| echo: false\n",
    "import pandas as pd\n",
    "import numpy as np\n",
    "import matplotlib.pyplot as plt\n",
    "import seaborn as sns"
   ]
  },
  {
   "cell_type": "code",
   "execution_count": 59,
   "metadata": {},
   "outputs": [],
   "source": [
    "tests = (\n",
    "    ([2, 1, 5, 6, 2, 3], 10),\n",
    "    ([6, 3, 1, 4, 12, 4], 12),\n",
    "    ([5, 6, 7, 4, 1], 16),\n",
    "    ([2, 1, 3, 4, 1], 6),\n",
    ")"
   ]
  },
  {
   "cell_type": "markdown",
   "metadata": {},
   "source": [
    "Which look like:"
   ]
  },
  {
   "cell_type": "code",
   "execution_count": 60,
   "metadata": {},
   "outputs": [
    {
     "data": {
      "image/png": "[encoded data removed]",
      "text/plain": [
       "<Figure size 640x480 with 4 Axes>"
      ]
     },
     "metadata": {},
     "output_type": "display_data"
    }
   ],
   "source": [
    "#| code-fold: true\n",
    "#| echo: true\n",
    "fig, axes = plt.subplots(2, 2, layout=\"tight\")\n",
    "for ax, (arr, ans) in zip(axes.flatten(), tests):\n",
    "    bar = ax.bar(\n",
    "        range(len(arr)),\n",
    "        arr,\n",
    "        width=0.95,\n",
    "        alpha=0.8,\n",
    "        edgecolor=\"yellow\",\n",
    "    )\n",
    "    ax.set_title(f\"Max area: {ans}\", loc=\"left\")\n",
    "    ax.bar_label(bar, fontsize=8)"
   ]
  },
  {
   "cell_type": "markdown",
   "metadata": {},
   "source": [
    "## A simple solution\n",
    "\n",
    "We can brute force this by generating all possible rectangles in the histogram.\n",
    "\n",
    "I'm doing a simple alogrithm here:\n",
    "\n",
    "For each N in the arry:\n",
    "    find the left and right boundary of the largest possible rectangle\n",
    "    this gives us the width, which we multiple by N to get the area \n"
   ]
  },
  {
   "cell_type": "code",
   "execution_count": 185,
   "metadata": {},
   "outputs": [
    {
     "name": "stdout",
     "output_type": "stream",
     "text": [
      "----- [2, 1, 5, 6, 2, 3] ---------\n",
      "0 2 (0, 0)\n",
      "1 1 (0, 5)\n",
      "2 5 (2, 3)\n",
      "3 6 (3, 3)\n",
      "4 2 (2, 5)\n",
      "5 3 (5, 5)\n"
     ]
    }
   ],
   "source": [
    "def find_boundary(idx: int, arr, debug=False) -> tuple[int, int]:\n",
    "    \"\"\"\n",
    "    Example:\n",
    "        idx 2 for [2, 1, 5, 6, 2, 3] returns (2, 3)\n",
    "    Returns:\n",
    "        (left, right)\n",
    "    \"\"\"\n",
    "\n",
    "    # find left boundary (can be itself)\n",
    "    left = 0  #\n",
    "    if idx == left:\n",
    "        pass  # at left edge, so left = 0\n",
    "    else:\n",
    "        for j in range(idx - 1, -1, -1):\n",
    "            if arr[j] < arr[idx]:\n",
    "                left = j + 1\n",
    "                # exit the for loop once the first left boundary is found\n",
    "                break\n",
    "\n",
    "    # find right boundary (can be itself)\n",
    "    right = len(arr) - 1  # default value\n",
    "\n",
    "    if idx == right:\n",
    "        pass  # at right edge already, ro right = rightmost idx\n",
    "    else:\n",
    "        for j in range(idx, len(arr)):\n",
    "            if arr[j] < arr[idx]:\n",
    "                right = j - 1\n",
    "                break\n",
    "\n",
    "    return left, right\n",
    "\n",
    "# testing this for the first arrary in the tests\n",
    "for arr, ans in tests:\n",
    "    print(\"-----\", arr, \"---------\")\n",
    "    for i in range(len(arr)):\n",
    "        print(i, arr[i], find_boundary(i, arr))\n",
    "    break"
   ]
  },
  {
   "cell_type": "markdown",
   "metadata": {},
   "source": [
    "The `find_boundary` func is working, so now its easy to get the area of the max rectangle. \n",
    "\n",
    "The below function iterates through every item in the array, calculates the area of the largest rectangle at that point, and updates the max area function."
   ]
  },
  {
   "cell_type": "code",
   "execution_count": 183,
   "metadata": {},
   "outputs": [],
   "source": [
    "def max_area(arr=arr):\n",
    "    \"\"\"returns the area of the biggest rectangle\"\"\"\n",
    "    max_area = 0\n",
    "    for i in range(len(arr)):\n",
    "        left, right = find_boundary(i, arr)\n",
    "        # adding 1 to width as when we calc (right - left) it excludes itself\n",
    "        width = 1 + right - left\n",
    "        max_area = max(max_area, arr[i] * width)\n",
    "    \n",
    "    return max_area\n",
    "\n",
    "for arr, ans in tests:\n",
    "    assert max_area(arr) == ans"
   ]
  },
  {
   "cell_type": "markdown",
   "metadata": {},
   "source": [
    "## Using stacks\n",
    "\n",
    "A work in progress...\n"
   ]
  },
  {
   "cell_type": "code",
   "execution_count": 184,
   "metadata": {},
   "outputs": [
    {
     "name": "stdout",
     "output_type": "stream",
     "text": [
      "[2, 1, 5, 6, 2, 3] ----> 10\n",
      "[6, 3, 1, 4, 12, 4] ----> 12\n",
      "[5, 6, 7, 4, 1] ----> 16\n",
      "[2, 1, 3, 4, 1] ----> 6\n",
      "all 4 tests passed!\n"
     ]
    }
   ],
   "source": [
    "def histogram_max_area(arr):\n",
    "    stack = [-1]\n",
    "    max_area = 0\n",
    "    for i in range(len(arr)):\n",
    "        while stack[-1] != -1 and arr[stack[-1]] >= arr[i]:\n",
    "            current_height = arr[stack.pop()]\n",
    "            current_width = i - stack[-1] - 1\n",
    "            max_area = max(max_area, current_height * current_width)\n",
    "        stack.append(i)\n",
    "\n",
    "    while stack[-1] != -1:\n",
    "        current_height = arr[stack.pop()]\n",
    "        current_width = len(arr) - stack[-1] - 1\n",
    "        max_area = max(max_area, current_height * current_width)\n",
    "    return max_area\n",
    "\n",
    "\n",
    "for arr, ans in tests:\n",
    "    assert histogram_max_area(arr) == ans\n",
    "    print(f\"{arr} ----> {ans}\")\n",
    "\n",
    "print(f\"all {len(tests)} tests passed!\")"
   ]
  },
  {
   "cell_type": "code",
   "execution_count": null,
   "metadata": {},
   "outputs": [],
   "source": []
  }
 ],
 "metadata": {
  "kernelspec": {
   "display_name": "Python 3.10.6 ('qblog')",
   "language": "python",
   "name": "python3"
  },
  "language_info": {
   "codemirror_mode": {
    "name": "ipython",
    "version": 3
   },
   "file_extension": ".py",
   "mimetype": "text/x-python",
   "name": "python",
   "nbconvert_exporter": "python",
   "pygments_lexer": "ipython3",
   "version": "3.11.4"
  },
  "vscode": {
   "interpreter": {
    "hash": "883c462cc944106b75f7fc9f0d282d9e1cc9bc32850931fa64635440ff018769"
   }
  }
 },
 "nbformat": 4,
 "nbformat_minor": 2
}
