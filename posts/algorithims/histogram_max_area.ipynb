{
 "cells": [
  {
   "cell_type": "raw",
   "metadata": {},
   "source": [
    "---\n",
    "title: The largest rectangle in a histogram\n",
    "date: 2023-08-13\n",
    "categories:\n",
    "- python\n",
    "code-fold: false\n",
    "toc: true\n",
    "---"
   ]
  },
  {
   "cell_type": "markdown",
   "metadata": {},
   "source": [
    "# Largest Rectangle under a histogram\n",
    "\n",
    "This is a popular coding interview question. It's really simple with a simple histogram using pen and paper, but harder to think about in code, as it takes a bit of thinking through.\n",
    "\n",
    "Detailed problem description: https://leetcode.com/problems/largest-rectangle-in-histogram/\n",
    "\n",
    "A few test arrays with the largest area:"
   ]
  },
  {
   "cell_type": "code",
   "execution_count": 9,
   "metadata": {},
   "outputs": [],
   "source": [
    "# | echo: false\n",
    "import pandas as pd\n",
    "import numpy as np\n",
    "\n",
    "import matplotlib.pyplot as plt\n",
    "from matplotlib.patches import Rectangle\n",
    "import matplotlib.colors as mcolors"
   ]
  },
  {
   "cell_type": "code",
   "execution_count": 22,
   "metadata": {},
   "outputs": [],
   "source": [
    "tests = (\n",
    "    ([2, 1, 5, 6, 2, 3], 10),\n",
    "    ([6, 3, 1, 4, 12, 4], 12),\n",
    "    ([5, 6, 7, 4, 1], 16),\n",
    "    ([2, 1, 3, 4, 1], 6),\n",
    ")"
   ]
  },
  {
   "cell_type": "markdown",
   "metadata": {},
   "source": [
    "The arrays are visualized below, which makes it much easier to think about the solution. I found it easier to do it on paper first, before coding."
   ]
  },
  {
   "cell_type": "code",
   "execution_count": 11,
   "metadata": {},
   "outputs": [
    {
     "data": {
      "image/png": "[encoded data removed]",
      "text/plain": [
       "<Figure size 640x480 with 4 Axes>"
      ]
     },
     "metadata": {},
     "output_type": "display_data"
    }
   ],
   "source": [
    "# | code-fold: true\n",
    "# | echo: true\n",
    "fig, axes = plt.subplots(2, 2, layout=\"tight\")\n",
    "for ax, (arr, ans) in zip(axes.flatten(), tests):\n",
    "    ax.set_axis_off()\n",
    "    bar = ax.bar(\n",
    "        range(len(arr)),\n",
    "        arr,\n",
    "        width=0.95,\n",
    "        alpha=0.8,\n",
    "        edgecolor=\"yellow\",\n",
    "    )\n",
    "    ax.set_title(f\"Largest rectange: {ans:2}\", loc=\"left\", fontsize=10)\n",
    "    ax.bar_label(bar, fontsize=8)"
   ]
  },
  {
   "cell_type": "markdown",
   "metadata": {},
   "source": [
    "Looking at the array makes it easy to see where the largest rectangle might be.\n",
    "\n",
    "## A simple solution\n",
    "\n",
    "We can brute force this by generating the largest possible rectangle at every item in the array.\n",
    "\n",
    "For each N in the arry:\n",
    "\n",
    "- find the left and right boundary of the largest possible rectangle\n",
    "- this gives us the width, exluding the width of N itself (adding 1 to ad back N)\n",
    "- so now we have the width, and the height is just the value N in the array\n",
    "\n",
    "To keep things simple, first up a helper function which returns the rectangle boundaries of a given point in an array:\n"
   ]
  },
  {
   "cell_type": "code",
   "execution_count": 28,
   "metadata": {},
   "outputs": [],
   "source": [
    "def find_boundary(idx: int, arr: list[int]) -> tuple[int, int]:\n",
    "    \"\"\"\n",
    "    Example:\n",
    "        idx 2 for [2, 1, 5, 6, 2, 3] returns (2, 3)\n",
    "    Returns:\n",
    "        (left, right)\n",
    "    \"\"\"\n",
    "\n",
    "    # find left boundary (can be itself)\n",
    "    left = 0\n",
    "    if idx == left:\n",
    "        pass  # deals with the left edge\n",
    "    else:\n",
    "        # march leftwards all the way to zero:\n",
    "        for j in range(idx - 1, -1, -1):\n",
    "            if arr[j] < arr[idx]:\n",
    "                left = j + 1  # adding 1 to exlude boundary\n",
    "                break  # exit loop once the first boundary found\n",
    "\n",
    "    # find right boundary (can be itself)\n",
    "    right = len(arr) - 1  # deal with the right edge\n",
    "\n",
    "    if idx == right:\n",
    "        pass  # at right edge already\n",
    "    else:\n",
    "        # march rightwards\n",
    "        for j in range(idx, len(arr)):\n",
    "            if arr[j] < arr[idx]:\n",
    "                right = j - 1  # subtracting 1 to exclude boundary\n",
    "                break\n",
    "\n",
    "    return left, right"
   ]
  },
  {
   "cell_type": "markdown",
   "metadata": {},
   "source": [
    "Phew! that should return the `(left, right)` boundaries for a given index and array.\n",
    "\n",
    "I drew the boundaries by hand for the first array to test the algo:"
   ]
  },
  {
   "cell_type": "code",
   "execution_count": 41,
   "metadata": {},
   "outputs": [
    {
     "name": "stdout",
     "output_type": "stream",
     "text": [
      "array:  [2, 1, 5, 6, 2, 3]\n",
      "Index 0: (val 2) - Boundaries: (0, 0)\n",
      "Index 1: (val 1) - Boundaries: (0, 5)\n",
      "Index 2: (val 5) - Boundaries: (2, 3)\n",
      "Index 3: (val 6) - Boundaries: (3, 3)\n",
      "Index 4: (val 2) - Boundaries: (2, 5)\n",
      "Index 5: (val 3) - Boundaries: (5, 5)\n"
     ]
    }
   ],
   "source": [
    "# testing this for the first arrary in the tests\n",
    "for arr, ans in tests:\n",
    "    print(\"array: \", arr)\n",
    "    for i in range(len(arr)):\n",
    "        print(f\"Index {i}: (val {arr[i]}) - Boundaries: {find_boundary(i, arr)}\")\n",
    "    break"
   ]
  },
  {
   "cell_type": "markdown",
   "metadata": {},
   "source": [
    "The `find_boundary` func is working, so now its easy to get the area of the max rectangle.\n",
    "\n",
    "### Finding the largest rectangle\n",
    "\n",
    "The below function iterates through every item in the array, calculates the area of the largest rectangle at that point, and updates the max area function.\n"
   ]
  },
  {
   "cell_type": "code",
   "execution_count": 24,
   "metadata": {},
   "outputs": [
    {
     "name": "stdout",
     "output_type": "stream",
     "text": [
      "[2, 1, 5, 6, 2, 3] ----> 10\n",
      "[6, 3, 1, 4, 12, 4] ----> 12\n",
      "[5, 6, 7, 4, 1] ----> 16\n",
      "[2, 1, 3, 4, 1] ----> 6\n",
      "all 4 tests passed!\n"
     ]
    }
   ],
   "source": [
    "def max_area(arr: list[int], viz: bool = False) -> int:\n",
    "    \"\"\"returns the area of the biggest rectangle,\n",
    "    and optionally returns its index\"\"\"\n",
    "    max_area = 0\n",
    "    max_idx = None\n",
    "\n",
    "    for i in range(len(arr)):\n",
    "        left, right = find_boundary(i, arr)\n",
    "        # adding 1 to width as when we calc (right - left) it excludes itself\n",
    "        width = 1 + right - left\n",
    "\n",
    "        new_area = arr[i] * width\n",
    "        if new_area > max_area:\n",
    "            max_area = new_area\n",
    "            max_idx = i\n",
    "\n",
    "    if viz:\n",
    "        return max_idx, max_area\n",
    "    else:\n",
    "        return max_area\n",
    "\n",
    "\n",
    "for arr, ans in tests:\n",
    "    assert max_area(arr) == ans\n",
    "    print(f\"{arr} ----> {max_area(arr)}\")\n",
    "print(f\"all {len(tests)} tests passed!\")"
   ]
  },
  {
   "cell_type": "markdown",
   "metadata": {},
   "source": [
    "That was pretty straight forward, though a bit verbose. Now an excercise in plotting this visually:\n",
    "\n",
    "### Eyeballing the largest rectangle\n",
    "\n",
    "Using matplotlib to plot the largest rectangle - this helps explain why the answer better than a wall of text."
   ]
  },
  {
   "cell_type": "code",
   "execution_count": 25,
   "metadata": {},
   "outputs": [],
   "source": [
    "# to use to show different rectangele with diff colors and fills\n",
    "colors = list(mcolors.TABLEAU_COLORS.values())\n",
    "hatches = [\"/\", \"\\\\\", \"|\", \"-\", \"+\", \"x\", \"o\", \"O\", \".\", \"*\"]"
   ]
  },
  {
   "cell_type": "code",
   "execution_count": 26,
   "metadata": {},
   "outputs": [
    {
     "data": {
      "image/png": "[encoded data removed]",
      "text/plain": [
       "<Figure size 640x480 with 4 Axes>"
      ]
     },
     "metadata": {},
     "output_type": "display_data"
    }
   ],
   "source": [
    "# | code-fold: true\n",
    "# | echo: true\n",
    "fig, axes = plt.subplots(2, 2, layout=\"tight\")\n",
    "for ax, (arr, ans) in zip(axes.flatten(), tests):\n",
    "    ax.set_axis_off()\n",
    "    bar = ax.bar(\n",
    "        range(len(arr)),\n",
    "        arr,\n",
    "        width=0.95,\n",
    "        alpha=0.6,\n",
    "        edgecolor=\"yellow\",\n",
    "    )\n",
    "    ax.set_title(f\"Largest rectange: {ans:2}\", loc=\"left\", fontsize=10)\n",
    "    ax.bar_label(bar, fontsize=8)\n",
    "\n",
    "    idx, area = max_area(arr, True)\n",
    "\n",
    "    for i in range(len(arr)):\n",
    "        if i == idx:  # got too messy plotting all the rects\n",
    "            left, right = find_boundary(i, arr)\n",
    "            width = 1 + right - left\n",
    "            ax.add_patch(\n",
    "                Rectangle(\n",
    "                    (left - 0.5, 0),\n",
    "                    width,\n",
    "                    arr[i],\n",
    "                    alpha=0.35,\n",
    "                    facecolor=\"purple\",\n",
    "                    ls=\"--\",\n",
    "                    lw=2,\n",
    "                    hatch=hatches[5],\n",
    "                )\n",
    "            )"
   ]
  },
  {
   "cell_type": "markdown",
   "metadata": {},
   "source": [
    "Every time I use matplotlib I'm both horrified and inmpressed by what you can do it... basically anything but so much code...\n",
    "\n",
    "## A faster, stack based solution\n",
    "\n",
    "By using a stack, we can find the largest rect in O(n) time, as we don't go through the array multiple times in this solution.\n",
    "\n",
    "Instead of relooping through the array, we can use a stack to only go through the array once.\n",
    "\n",
    "This algo:\n",
    "* while the stack isn't empty and the height of the current bar is <= to the top bar in the stack\n",
    "    * calc area, update if bigger\n",
    "        * height is the bar at the top of the array\n",
    "    * push current bar onto stack\n",
    "* the above will leave bars in the stack which only have bigger items to their right. Deal wit this by\n",
    "    * pop the stack, the height is that item, the width is the distance b/t that item and the end of the array\n",
    "    * if this area bigger, update max area"
   ]
  },
  {
   "cell_type": "code",
   "execution_count": 48,
   "metadata": {},
   "outputs": [
    {
     "name": "stdout",
     "output_type": "stream",
     "text": [
      "[2, 1, 5, 6, 2, 3] ----> 10\n",
      "all 4 tests passed!\n"
     ]
    }
   ],
   "source": [
    "def histogram_max_area(arr):\n",
    "    stack = [-1]  # the stop or sentinel value\n",
    "    max_area = 0\n",
    "\n",
    "    for i in range(len(arr)):\n",
    "        while stack[-1] != -1 and arr[stack[-1]] >= arr[i]:\n",
    "            current_height = arr[stack.pop()]\n",
    "            current_width = i - stack[-1] - 1\n",
    "            max_area = max(max_area, current_height * current_width)\n",
    "        stack.append(i)\n",
    "\n",
    "    # the remaining stack items rectangles extend all the way to the end\n",
    "    while stack[-1] != -1:\n",
    "        current_height = arr[stack.pop()]\n",
    "        current_width = len(arr) - stack[-1] - 1\n",
    "        max_area = max(max_area, current_height * current_width)\n",
    "    return max_area\n",
    "\n",
    "\n",
    "for arr, ans in tests:\n",
    "    assert histogram_max_area(arr) == ans\n",
    "    print(f\"{arr} ----> {ans}\")\n",
    "    break\n",
    "\n",
    "print(f\"all {len(tests)} tests passed!\")"
   ]
  }
 ],
 "metadata": {
  "kernelspec": {
   "display_name": "Python 3.10.6 ('qblog')",
   "language": "python",
   "name": "python3"
  },
  "language_info": {
   "codemirror_mode": {
    "name": "ipython",
    "version": 3
   },
   "file_extension": ".py",
   "mimetype": "text/x-python",
   "name": "python",
   "nbconvert_exporter": "python",
   "pygments_lexer": "ipython3",
   "version": "3.11.4"
  },
  "vscode": {
   "interpreter": {
    "hash": "883c462cc944106b75f7fc9f0d282d9e1cc9bc32850931fa64635440ff018769"
   }
  }
 },
 "nbformat": 4,
 "nbformat_minor": 2
}
