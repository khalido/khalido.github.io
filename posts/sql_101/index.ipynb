{
 "cells": [
  {
   "cell_type": "raw",
   "metadata": {},
   "source": [
    "---\n",
    "title: SQL 101 with duckdb and jupysql\n",
    "date: 2023-08-13\n",
    "categories:\n",
    "- python\n",
    "- sql\n",
    "code-fold: false\n",
    "toc: true\n",
    "---"
   ]
  },
  {
   "cell_type": "markdown",
   "metadata": {},
   "source": [
    "# SQL 101 with duckdb and jupysql\n",
    "\n",
    "## Jupyter + duckdb setup for sql\n",
    "\n",
    "Before the sql even starts, I want to use jupyter notebooks + sql. I'm using duckdb inside jupyter to look at a few sql datasets. \n",
    "\n",
    "First up, make a new env and install the necessary libraries if necessary by:\n",
    "\n",
    "```sh\n",
    "mamba create -n sql101 python=3.11 jupyterlab duckdb duckdb-engine jupysql matplotlib openpyxl plotly\n",
    "mamba active sql101\n",
    "```"
   ]
  },
  {
   "cell_type": "code",
   "execution_count": 1,
   "metadata": {},
   "outputs": [],
   "source": [
    "# | echo: false\n",
    "import duckdb\n",
    "\n",
    "import os\n",
    "from pathlib import Path\n",
    "import pandas as pd\n",
    "import numpy as np\n",
    "from zipfile import ZipFile\n",
    "import requests\n",
    "\n",
    "import plotly.graph_objs as go\n",
    "import plotly.express as px\n",
    "import matplotlib.pyplot as plt\n",
    "import seaborn as sns\n",
    "from matplotlib.patches import Rectangle\n",
    "import matplotlib.colors as mcolors\n",
    "from matplotlib import patches as mpatches\n",
    "from ipywidgets import widgets\n",
    "\n",
    "# %load_ext jupyter_ai_magics"
   ]
  },
  {
   "cell_type": "markdown",
   "metadata": {},
   "source": [
    "### Setting up duckdb for jupyter\n",
    "\n",
    "Once all the packages have been installed, setup jupyter to use duckdb. You don't need to use all the three config options below, just noting some useful ones for future reference.\n",
    "\n",
    "the `%config SqlMagic.autopandas` in particular is useful - the sql query is returned as a pandas dataframe. This is useful as even though right now I have a small dataset, on a real project duckdb can talk to [remote databases](https://clickhouse.com/), or query [parquet files on the web](https://duckdb.org/2021/06/25/querying-parquet.html), do a query and only pull down the subset of data selected in the query.\n",
    "\n",
    "After that, the pandas dataframe is ideal for plotting and other pythonic stuff. "
   ]
  },
  {
   "cell_type": "code",
   "execution_count": 2,
   "metadata": {},
   "outputs": [],
   "source": [
    "# Import jupysql Jupyter extension to create SQL cells\n",
    "%load_ext sql\n",
    "\n",
    "%config SqlMagic.displaycon = False  # hides con info\n",
    "%config SqlMagic.autopandas = True   # output as df\n",
    "#%config SqlMagic.feedback = False   # \n",
    "\n",
    "%sql duckdb://"
   ]
  },
  {
   "cell_type": "markdown",
   "metadata": {},
   "source": [
    "## Data\n",
    "\n",
    "I'm using the [Economist's big mac gdp source data](https://github.com/TheEconomist/big-mac-data). Pandas can directly download the csv file into a dataframe which duckdb can read, but trying to stick with most sql here, so I'm downloading the csv file to disk and reading it with duckdb directly.\n",
    "\n",
    "Why the big mac index? To calculate the big mac index we need to use [correlated subqueries](https://duckdb.org/2023/05/26/correlated-subqueries-in-sql.html), which is a pretty advanced topic!\n",
    "\n",
    "The final output figure @fig-big-mac-index is somewhere below, this notebook works through getting there slowly:"
   ]
  },
  {
   "cell_type": "code",
   "execution_count": 3,
   "metadata": {},
   "outputs": [],
   "source": [
    "url = \"https://github.com/TheEconomist/big-mac-data/raw/master/source-data/big-mac-source-data-v2.csv\"\n",
    "\n",
    "fname = \"big-mac-source-data-v2.csv\"\n",
    "\n",
    "with open(fname, \"wb\") as file:\n",
    "    file.write(requests.get(url).content)"
   ]
  },
  {
   "cell_type": "markdown",
   "metadata": {},
   "source": [
    "When using `%%sql` cells in jupyter, put python variables in brackets like so: `{{var_name}}`.\n",
    "\n",
    "The [read_csv_auto](https://duckdb.org/docs/guides/import/csv_import) should auto-magically read and convert the csv to a sql table:"
   ]
  },
  {
   "cell_type": "code",
   "execution_count": 4,
   "metadata": {
    "vscode": {
     "languageId": "sql"
    }
   },
   "outputs": [
    {
     "data": {
      "text/html": [
       "<div>\n",
       "<style scoped>\n",
       "    .dataframe tbody tr th:only-of-type {\n",
       "        vertical-align: middle;\n",
       "    }\n",
       "\n",
       "    .dataframe tbody tr th {\n",
       "        vertical-align: top;\n",
       "    }\n",
       "\n",
       "    .dataframe thead th {\n",
       "        text-align: right;\n",
       "    }\n",
       "</style>\n",
       "<table border=\"1\" class=\"dataframe\">\n",
       "  <thead>\n",
       "    <tr style=\"text-align: right;\">\n",
       "      <th></th>\n",
       "      <th>name</th>\n",
       "      <th>iso_a3</th>\n",
       "      <th>currency_code</th>\n",
       "      <th>local_price</th>\n",
       "      <th>dollar_ex</th>\n",
       "      <th>GDP_dollar</th>\n",
       "      <th>GDP_local</th>\n",
       "      <th>date</th>\n",
       "    </tr>\n",
       "  </thead>\n",
       "  <tbody>\n",
       "    <tr>\n",
       "      <th>0</th>\n",
       "      <td>Argentina</td>\n",
       "      <td>ARG</td>\n",
       "      <td>ARS</td>\n",
       "      <td>2.50</td>\n",
       "      <td>1.00</td>\n",
       "      <td>8709.072</td>\n",
       "      <td>8709.072</td>\n",
       "      <td>2000-04-01</td>\n",
       "    </tr>\n",
       "    <tr>\n",
       "      <th>1</th>\n",
       "      <td>Australia</td>\n",
       "      <td>AUS</td>\n",
       "      <td>AUD</td>\n",
       "      <td>2.59</td>\n",
       "      <td>1.68</td>\n",
       "      <td>21746.809</td>\n",
       "      <td>33698.764</td>\n",
       "      <td>2000-04-01</td>\n",
       "    </tr>\n",
       "    <tr>\n",
       "      <th>2</th>\n",
       "      <td>Brazil</td>\n",
       "      <td>BRA</td>\n",
       "      <td>BRL</td>\n",
       "      <td>2.95</td>\n",
       "      <td>1.79</td>\n",
       "      <td>3501.438</td>\n",
       "      <td>6351.375</td>\n",
       "      <td>2000-04-01</td>\n",
       "    </tr>\n",
       "  </tbody>\n",
       "</table>\n",
       "</div>"
      ],
      "text/plain": [
       "        name iso_a3 currency_code  local_price  dollar_ex  GDP_dollar  \\\n",
       "0  Argentina    ARG           ARS         2.50       1.00    8709.072   \n",
       "1  Australia    AUS           AUD         2.59       1.68   21746.809   \n",
       "2     Brazil    BRA           BRL         2.95       1.79    3501.438   \n",
       "\n",
       "   GDP_local       date  \n",
       "0   8709.072 2000-04-01  \n",
       "1  33698.764 2000-04-01  \n",
       "2   6351.375 2000-04-01  "
      ]
     },
     "execution_count": 4,
     "metadata": {},
     "output_type": "execute_result"
    }
   ],
   "source": [
    "%%sql\n",
    "-- make a table bigmac from the csv file\n",
    "create table if not exists bigmac as select * from read_csv_auto('{{fname}}');\n",
    "\n",
    "select * from bigmac limit 3; -- comments can go here too!"
   ]
  },
  {
   "cell_type": "markdown",
   "metadata": {},
   "source": [
    "So now we have a table inside a sql database.\n",
    "\n",
    "::: {.callout-note}\n",
    "sql convention is to use a lot of CAPITALS, but for fast typing and a lack of an sql formatter, I'm going lowercase. Ideally your [sql](https://dbgate.org/) writing [thingamjig](https://azure.microsoft.com/en-au/products/data-studio) should have a formatter which does that for you.\n",
    ":::"
   ]
  },
  {
   "cell_type": "markdown",
   "metadata": {},
   "source": [
    "## EDA and data cleanup\n",
    "\n",
    "Data always has some issues, so taking a look:\n"
   ]
  },
  {
   "cell_type": "markdown",
   "metadata": {},
   "source": [
    "### Metadata about the table\n",
    "\n",
    "A sql database can have many tables, so its useful to take a look at whats there:"
   ]
  },
  {
   "cell_type": "code",
   "execution_count": 5,
   "metadata": {},
   "outputs": [
    {
     "data": {
      "text/html": [
       "<table>\n",
       "    <thead>\n",
       "        <tr>\n",
       "            <th>Name</th>\n",
       "        </tr>\n",
       "    </thead>\n",
       "    <tbody>\n",
       "        <tr>\n",
       "            <td>bigmac</td>\n",
       "        </tr>\n",
       "    </tbody>\n",
       "</table>"
      ],
      "text/plain": [
       "+--------+\n",
       "|  Name  |\n",
       "+--------+\n",
       "| bigmac |\n",
       "+--------+"
      ]
     },
     "execution_count": 5,
     "metadata": {},
     "output_type": "execute_result"
    }
   ],
   "source": [
    "%sqlcmd tables"
   ]
  },
  {
   "cell_type": "markdown",
   "metadata": {},
   "source": [
    "This should describe the table:"
   ]
  },
  {
   "cell_type": "code",
   "execution_count": 6,
   "metadata": {},
   "outputs": [
    {
     "data": {
      "text/html": [
       "<div>\n",
       "<style scoped>\n",
       "    .dataframe tbody tr th:only-of-type {\n",
       "        vertical-align: middle;\n",
       "    }\n",
       "\n",
       "    .dataframe tbody tr th {\n",
       "        vertical-align: top;\n",
       "    }\n",
       "\n",
       "    .dataframe thead th {\n",
       "        text-align: right;\n",
       "    }\n",
       "</style>\n",
       "<table border=\"1\" class=\"dataframe\">\n",
       "  <thead>\n",
       "    <tr style=\"text-align: right;\">\n",
       "      <th></th>\n",
       "      <th>Success</th>\n",
       "    </tr>\n",
       "  </thead>\n",
       "  <tbody>\n",
       "  </tbody>\n",
       "</table>\n",
       "</div>"
      ],
      "text/plain": [
       "Empty DataFrame\n",
       "Columns: [Success]\n",
       "Index: []"
      ]
     },
     "execution_count": 6,
     "metadata": {},
     "output_type": "execute_result"
    }
   ],
   "source": [
    "%sql describe bigmac;"
   ]
  },
  {
   "cell_type": "markdown",
   "metadata": {},
   "source": [
    "The `describe bigmac` code should spit out table info, seems to be some kind of bug, but moving on, we can get the gist using the [information schema](https://duckdb.org/docs/sql/information_schema): "
   ]
  },
  {
   "cell_type": "code",
   "execution_count": 7,
   "metadata": {},
   "outputs": [
    {
     "data": {
      "text/html": [
       "<div>\n",
       "<style scoped>\n",
       "    .dataframe tbody tr th:only-of-type {\n",
       "        vertical-align: middle;\n",
       "    }\n",
       "\n",
       "    .dataframe tbody tr th {\n",
       "        vertical-align: top;\n",
       "    }\n",
       "\n",
       "    .dataframe thead th {\n",
       "        text-align: right;\n",
       "    }\n",
       "</style>\n",
       "<table border=\"1\" class=\"dataframe\">\n",
       "  <thead>\n",
       "    <tr style=\"text-align: right;\">\n",
       "      <th></th>\n",
       "      <th>column_name</th>\n",
       "      <th>data_type</th>\n",
       "    </tr>\n",
       "  </thead>\n",
       "  <tbody>\n",
       "    <tr>\n",
       "      <th>0</th>\n",
       "      <td>name</td>\n",
       "      <td>VARCHAR</td>\n",
       "    </tr>\n",
       "    <tr>\n",
       "      <th>1</th>\n",
       "      <td>iso_a3</td>\n",
       "      <td>VARCHAR</td>\n",
       "    </tr>\n",
       "    <tr>\n",
       "      <th>2</th>\n",
       "      <td>currency_code</td>\n",
       "      <td>VARCHAR</td>\n",
       "    </tr>\n",
       "    <tr>\n",
       "      <th>3</th>\n",
       "      <td>local_price</td>\n",
       "      <td>DOUBLE</td>\n",
       "    </tr>\n",
       "    <tr>\n",
       "      <th>4</th>\n",
       "      <td>dollar_ex</td>\n",
       "      <td>DOUBLE</td>\n",
       "    </tr>\n",
       "    <tr>\n",
       "      <th>5</th>\n",
       "      <td>GDP_dollar</td>\n",
       "      <td>DOUBLE</td>\n",
       "    </tr>\n",
       "    <tr>\n",
       "      <th>6</th>\n",
       "      <td>GDP_local</td>\n",
       "      <td>DOUBLE</td>\n",
       "    </tr>\n",
       "    <tr>\n",
       "      <th>7</th>\n",
       "      <td>date</td>\n",
       "      <td>DATE</td>\n",
       "    </tr>\n",
       "  </tbody>\n",
       "</table>\n",
       "</div>"
      ],
      "text/plain": [
       "     column_name data_type\n",
       "0           name   VARCHAR\n",
       "1         iso_a3   VARCHAR\n",
       "2  currency_code   VARCHAR\n",
       "3    local_price    DOUBLE\n",
       "4      dollar_ex    DOUBLE\n",
       "5     GDP_dollar    DOUBLE\n",
       "6      GDP_local    DOUBLE\n",
       "7           date      DATE"
      ]
     },
     "execution_count": 7,
     "metadata": {},
     "output_type": "execute_result"
    }
   ],
   "source": [
    "%%sql \n",
    "SELECT COLUMN_NAME, DATA_TYPE\n",
    "FROM INFORMATION_SCHEMA.COLUMNS\n",
    "WHERE TABLE_NAME = 'bigmac';"
   ]
  },
  {
   "cell_type": "markdown",
   "metadata": {},
   "source": [
    "The above is not that useful, a more informative look which counts the values is:"
   ]
  },
  {
   "cell_type": "code",
   "execution_count": 8,
   "metadata": {},
   "outputs": [
    {
     "data": {
      "text/html": [
       "<div style='position: sticky; left: 0; padding: 10px; font-size: 12px; color: #FFA500'><strong></strong> </div><style>\n",
       " #profile-table td:first-child {\n",
       "  position: sticky;\n",
       "  left: 0;\n",
       "  background-color: var(--jp-cell-editor-background);\n",
       "  font-weight: bold;\n",
       "}\n",
       " #profile-table thead tr th:first-child {\n",
       "  position: sticky;\n",
       "  left: 0;\n",
       "  background-color: var(--jp-cell-editor-background);\n",
       "  font-weight: bold; /* Adding bold text */\n",
       "}\n",
       "            </style><style></style><table id=\"profile-table-7ed664dce5644e0d8abff0f8a7b96f42\">\n",
       "    <thead>\n",
       "        <tr>\n",
       "            <th> </th>\n",
       "            <th>name</th>\n",
       "            <th>iso_a3</th>\n",
       "            <th>currency_code</th>\n",
       "            <th>local_price</th>\n",
       "            <th>dollar_ex</th>\n",
       "            <th>GDP_dollar</th>\n",
       "            <th>GDP_local</th>\n",
       "            <th>date</th>\n",
       "        </tr>\n",
       "    </thead>\n",
       "    <tbody>\n",
       "        <tr>\n",
       "            <td>count</td>\n",
       "            <td>1946</td>\n",
       "            <td>1946</td>\n",
       "            <td>1946</td>\n",
       "            <td>1946</td>\n",
       "            <td>1946</td>\n",
       "            <td>1943</td>\n",
       "            <td>1918</td>\n",
       "            <td>1946</td>\n",
       "        </tr>\n",
       "        <tr>\n",
       "            <td>unique</td>\n",
       "            <td>74</td>\n",
       "            <td>73</td>\n",
       "            <td>58</td>\n",
       "            <td>669</td>\n",
       "            <td>1497</td>\n",
       "            <td>1157</td>\n",
       "            <td>1141</td>\n",
       "            <td>37</td>\n",
       "        </tr>\n",
       "        <tr>\n",
       "            <td>top</td>\n",
       "            <td>Argentina</td>\n",
       "            <td>ARG</td>\n",
       "            <td>EUR</td>\n",
       "            <td>nan</td>\n",
       "            <td>nan</td>\n",
       "            <td>nan</td>\n",
       "            <td>nan</td>\n",
       "            <td>2021-07-01</td>\n",
       "        </tr>\n",
       "        <tr>\n",
       "            <td>freq</td>\n",
       "            <td>37</td>\n",
       "            <td>37</td>\n",
       "            <td>351</td>\n",
       "            <td>nan</td>\n",
       "            <td>nan</td>\n",
       "            <td>nan</td>\n",
       "            <td>nan</td>\n",
       "            <td>73</td>\n",
       "        </tr>\n",
       "        <tr>\n",
       "            <td>mean</td>\n",
       "            <td>nan</td>\n",
       "            <td>nan</td>\n",
       "            <td>nan</td>\n",
       "            <td>15816.0895</td>\n",
       "            <td>4722.5632</td>\n",
       "            <td>24790.7531</td>\n",
       "            <td>2615423.9573</td>\n",
       "            <td>nan</td>\n",
       "        </tr>\n",
       "        <tr>\n",
       "            <td>std</td>\n",
       "            <td>nan</td>\n",
       "            <td>nan</td>\n",
       "            <td>nan</td>\n",
       "            <td>393903.7657</td>\n",
       "            <td>100597.3791</td>\n",
       "            <td>21425.9054</td>\n",
       "            <td>9471890.5225</td>\n",
       "            <td>nan</td>\n",
       "        </tr>\n",
       "        <tr>\n",
       "            <td>min</td>\n",
       "            <td>nan</td>\n",
       "            <td>nan</td>\n",
       "            <td>nan</td>\n",
       "            <td>0.0</td>\n",
       "            <td>0.0</td>\n",
       "            <td>689.826</td>\n",
       "            <td>3004.341</td>\n",
       "            <td>nan</td>\n",
       "        </tr>\n",
       "        <tr>\n",
       "            <td>25%</td>\n",
       "            <td>nan</td>\n",
       "            <td>nan</td>\n",
       "            <td>nan</td>\n",
       "            <td>4.4500</td>\n",
       "            <td>1.0035</td>\n",
       "            <td>6577.2870</td>\n",
       "            <td>33698.7640</td>\n",
       "            <td>nan</td>\n",
       "        </tr>\n",
       "        <tr>\n",
       "            <td>50%</td>\n",
       "            <td>nan</td>\n",
       "            <td>nan</td>\n",
       "            <td>nan</td>\n",
       "            <td>15.0000</td>\n",
       "            <td>5.4650</td>\n",
       "            <td>17815.1920</td>\n",
       "            <td>70506.5530</td>\n",
       "            <td>nan</td>\n",
       "        </tr>\n",
       "        <tr>\n",
       "            <td>75%</td>\n",
       "            <td>nan</td>\n",
       "            <td>nan</td>\n",
       "            <td>nan</td>\n",
       "            <td>87.0000</td>\n",
       "            <td>32.8750</td>\n",
       "            <td>41409.6309</td>\n",
       "            <td>358689.5130</td>\n",
       "            <td>nan</td>\n",
       "        </tr>\n",
       "        <tr>\n",
       "            <td>max</td>\n",
       "            <td>nan</td>\n",
       "            <td>nan</td>\n",
       "            <td>nan</td>\n",
       "            <td>16020000.0</td>\n",
       "            <td>3613989.071</td>\n",
       "            <td>102576.68</td>\n",
       "            <td>85420189.717</td>\n",
       "            <td>nan</td>\n",
       "        </tr>\n",
       "    </tbody>\n",
       "</table><div style='position: sticky; left: 0; padding: 10px; font-size: 12px; color: black; background-color: white;'><strong></strong> </div>"
      ],
      "text/plain": [
       "+--------+-----------+--------+---------------+-------------+-------------+------------+--------------+------------+\n",
       "|        |    name   | iso_a3 | currency_code | local_price |  dollar_ex  | GDP_dollar |  GDP_local   |    date    |\n",
       "+--------+-----------+--------+---------------+-------------+-------------+------------+--------------+------------+\n",
       "| count  |    1946   |  1946  |      1946     |     1946    |     1946    |    1943    |     1918     |    1946    |\n",
       "| unique |     74    |   73   |       58      |     669     |     1497    |    1157    |     1141     |     37     |\n",
       "|  top   | Argentina |  ARG   |      EUR      |     nan     |     nan     |    nan     |     nan      | 2021-07-01 |\n",
       "|  freq  |     37    |   37   |      351      |     nan     |     nan     |    nan     |     nan      |     73     |\n",
       "|  mean  |    nan    |  nan   |      nan      |  15816.0895 |  4722.5632  | 24790.7531 | 2615423.9573 |    nan     |\n",
       "|  std   |    nan    |  nan   |      nan      | 393903.7657 | 100597.3791 | 21425.9054 | 9471890.5225 |    nan     |\n",
       "|  min   |    nan    |  nan   |      nan      |     0.0     |     0.0     |  689.826   |   3004.341   |    nan     |\n",
       "|  25%   |    nan    |  nan   |      nan      |    4.4500   |    1.0035   | 6577.2870  |  33698.7640  |    nan     |\n",
       "|  50%   |    nan    |  nan   |      nan      |   15.0000   |    5.4650   | 17815.1920 |  70506.5530  |    nan     |\n",
       "|  75%   |    nan    |  nan   |      nan      |   87.0000   |   32.8750   | 41409.6309 | 358689.5130  |    nan     |\n",
       "|  max   |    nan    |  nan   |      nan      |  16020000.0 | 3613989.071 | 102576.68  | 85420189.717 |    nan     |\n",
       "+--------+-----------+--------+---------------+-------------+-------------+------------+--------------+------------+"
      ]
     },
     "execution_count": 8,
     "metadata": {},
     "output_type": "execute_result"
    }
   ],
   "source": [
    "%sqlcmd profile --table 'bigmac'"
   ]
  },
  {
   "cell_type": "markdown",
   "metadata": {},
   "source": [
    "### Data cleanup"
   ]
  },
  {
   "cell_type": "markdown",
   "metadata": {},
   "source": [
    "So we have 3 rows without a GDP_dollar, and at least one `local_price` and `dollar_ex` of 0, so dropping those rows.\n",
    "We also need `GDP_local` to be able to adjust the bigmac index, so dropping any nulls in that row too."
   ]
  },
  {
   "cell_type": "code",
   "execution_count": 9,
   "metadata": {},
   "outputs": [
    {
     "data": {
      "text/html": [
       "<div>\n",
       "<style scoped>\n",
       "    .dataframe tbody tr th:only-of-type {\n",
       "        vertical-align: middle;\n",
       "    }\n",
       "\n",
       "    .dataframe tbody tr th {\n",
       "        vertical-align: top;\n",
       "    }\n",
       "\n",
       "    .dataframe thead th {\n",
       "        text-align: right;\n",
       "    }\n",
       "</style>\n",
       "<table border=\"1\" class=\"dataframe\">\n",
       "  <thead>\n",
       "    <tr style=\"text-align: right;\">\n",
       "      <th></th>\n",
       "      <th>Success</th>\n",
       "    </tr>\n",
       "  </thead>\n",
       "  <tbody>\n",
       "  </tbody>\n",
       "</table>\n",
       "</div>"
      ],
      "text/plain": [
       "Empty DataFrame\n",
       "Columns: [Success]\n",
       "Index: []"
      ]
     },
     "execution_count": 9,
     "metadata": {},
     "output_type": "execute_result"
    }
   ],
   "source": [
    "%%sql \n",
    "delete from bigmac where \n",
    "GDP_dollar is null or GDP_local is null or local_price<=0 or dollar_ex<=0;"
   ]
  },
  {
   "cell_type": "code",
   "execution_count": 10,
   "metadata": {},
   "outputs": [
    {
     "data": {
      "text/plain": [
       "'The data set has a total of 1918 rows.'"
      ]
     },
     "execution_count": 10,
     "metadata": {},
     "output_type": "execute_result"
    }
   ],
   "source": [
    "rows = %sql select count(*) as N from bigmac;\n",
    "f\"The data set has a total of {rows.N.loc[0]} rows.\""
   ]
  },
  {
   "cell_type": "markdown",
   "metadata": {},
   "source": [
    "It's a pretty clean and tidy dataset, we did loose a few rows, which in a real world case might bear more investigation, but moving on..."
   ]
  },
  {
   "cell_type": "code",
   "execution_count": 11,
   "metadata": {},
   "outputs": [
    {
     "data": {
      "text/html": [
       "<div>\n",
       "<style scoped>\n",
       "    .dataframe tbody tr th:only-of-type {\n",
       "        vertical-align: middle;\n",
       "    }\n",
       "\n",
       "    .dataframe tbody tr th {\n",
       "        vertical-align: top;\n",
       "    }\n",
       "\n",
       "    .dataframe thead th {\n",
       "        text-align: right;\n",
       "    }\n",
       "</style>\n",
       "<table border=\"1\" class=\"dataframe\">\n",
       "  <thead>\n",
       "    <tr style=\"text-align: right;\">\n",
       "      <th></th>\n",
       "      <th>Countries</th>\n",
       "      <th>min(date)</th>\n",
       "      <th>max(date)</th>\n",
       "    </tr>\n",
       "  </thead>\n",
       "  <tbody>\n",
       "    <tr>\n",
       "      <th>0</th>\n",
       "      <td>73</td>\n",
       "      <td>2000-04-01</td>\n",
       "      <td>2022-07-01</td>\n",
       "    </tr>\n",
       "  </tbody>\n",
       "</table>\n",
       "</div>"
      ],
      "text/plain": [
       "   Countries  min(date)  max(date)\n",
       "0         73 2000-04-01 2022-07-01"
      ]
     },
     "execution_count": 11,
     "metadata": {},
     "output_type": "execute_result"
    }
   ],
   "source": [
    "%sql select count(distinct name) as Countries, min(date), max(date) from bigmac;"
   ]
  },
  {
   "cell_type": "markdown",
   "metadata": {},
   "source": [
    "We have data for 73 countries from April 2000 to July 2022.  "
   ]
  },
  {
   "cell_type": "markdown",
   "metadata": {},
   "source": [
    "## Calculations in SQL\n",
    "\n",
    "Adding some columns by calculating new ones in sql. This is where the [sql](https://duckdb.org/docs/sql/introduction) starts."
   ]
  },
  {
   "cell_type": "markdown",
   "metadata": {},
   "source": [
    "### Big mac price in USD\n",
    "\n",
    "We want to get the US dollar price for a big mac in every country, which is easy as our data contains the local_price and dollar exchange rate. So we add a new column: `dollar_price = local_price / dollar_ex`.\n",
    "\n",
    "In sql you can't just add a column, you first have to add it with a value type. In pandas you can do this in one step: `df[\"dollar_price\"] = df.local_price / df.dollar_ex`. \n",
    "\n",
    "So here we add a new col `dollar_price` and calc its value:"
   ]
  },
  {
   "cell_type": "code",
   "execution_count": 12,
   "metadata": {},
   "outputs": [
    {
     "data": {
      "text/html": [
       "<div>\n",
       "<style scoped>\n",
       "    .dataframe tbody tr th:only-of-type {\n",
       "        vertical-align: middle;\n",
       "    }\n",
       "\n",
       "    .dataframe tbody tr th {\n",
       "        vertical-align: top;\n",
       "    }\n",
       "\n",
       "    .dataframe thead th {\n",
       "        text-align: right;\n",
       "    }\n",
       "</style>\n",
       "<table border=\"1\" class=\"dataframe\">\n",
       "  <thead>\n",
       "    <tr style=\"text-align: right;\">\n",
       "      <th></th>\n",
       "      <th>name</th>\n",
       "      <th>iso_a3</th>\n",
       "      <th>currency_code</th>\n",
       "      <th>local_price</th>\n",
       "      <th>dollar_ex</th>\n",
       "      <th>GDP_dollar</th>\n",
       "      <th>GDP_local</th>\n",
       "      <th>date</th>\n",
       "      <th>dollar_price</th>\n",
       "    </tr>\n",
       "  </thead>\n",
       "  <tbody>\n",
       "    <tr>\n",
       "      <th>0</th>\n",
       "      <td>Argentina</td>\n",
       "      <td>ARG</td>\n",
       "      <td>ARS</td>\n",
       "      <td>2.50</td>\n",
       "      <td>1.00</td>\n",
       "      <td>8709.072</td>\n",
       "      <td>8709.072</td>\n",
       "      <td>2000-04-01</td>\n",
       "      <td>2.500000</td>\n",
       "    </tr>\n",
       "    <tr>\n",
       "      <th>1</th>\n",
       "      <td>Australia</td>\n",
       "      <td>AUS</td>\n",
       "      <td>AUD</td>\n",
       "      <td>2.59</td>\n",
       "      <td>1.68</td>\n",
       "      <td>21746.809</td>\n",
       "      <td>33698.764</td>\n",
       "      <td>2000-04-01</td>\n",
       "      <td>1.541667</td>\n",
       "    </tr>\n",
       "    <tr>\n",
       "      <th>2</th>\n",
       "      <td>Brazil</td>\n",
       "      <td>BRA</td>\n",
       "      <td>BRL</td>\n",
       "      <td>2.95</td>\n",
       "      <td>1.79</td>\n",
       "      <td>3501.438</td>\n",
       "      <td>6351.375</td>\n",
       "      <td>2000-04-01</td>\n",
       "      <td>1.648045</td>\n",
       "    </tr>\n",
       "  </tbody>\n",
       "</table>\n",
       "</div>"
      ],
      "text/plain": [
       "        name iso_a3 currency_code  local_price  dollar_ex  GDP_dollar  \\\n",
       "0  Argentina    ARG           ARS         2.50       1.00    8709.072   \n",
       "1  Australia    AUS           AUD         2.59       1.68   21746.809   \n",
       "2     Brazil    BRA           BRL         2.95       1.79    3501.438   \n",
       "\n",
       "   GDP_local       date  dollar_price  \n",
       "0   8709.072 2000-04-01      2.500000  \n",
       "1  33698.764 2000-04-01      1.541667  \n",
       "2   6351.375 2000-04-01      1.648045  "
      ]
     },
     "execution_count": 12,
     "metadata": {},
     "output_type": "execute_result"
    }
   ],
   "source": [
    "%%sql\n",
    "alter table bigmac \n",
    "    add column if not exists dollar_price DOUBLE;\n",
    "update bigmac \n",
    "    set dollar_price = local_price / dollar_ex;\n",
    "\n",
    "select * from bigmac limit 3;"
   ]
  },
  {
   "cell_type": "markdown",
   "metadata": {},
   "source": [
    "The line `if not exists` is optional, but useful in this context as it prevents errors if I rerun the notebook. "
   ]
  },
  {
   "cell_type": "markdown",
   "metadata": {},
   "source": [
    "### Calculating the big mac index\n",
    "\n",
    "Now we want to account for purchasing power parity by divinding the dollar price with the base currencies price.\n",
    "The Economist uses five base currencies: `('USD', 'EUR', 'GBP', 'JPY', 'CNY')`\n",
    "\n",
    "For simplicity's sake, I'll stick with just USD.  This is a easy calc to do in python, in SQL its a bit messy..., so I am using [Correlated Subqueries in SQL](https://duckdb.org/2023/05/26/correlated-subqueries-in-sql.html) to do this.\n",
    "\n",
    "The dollar_price on each row is divided by the dollar_price in USD. Since we have multiple dates, the query below matches on both the date and the country code.\n",
    "\n",
    "The inner query returns the US dollar_price for each date, so every row in the table gets divided by the right dates USD price.\n",
    "\n",
    "::: {.callout-note}\n",
    "This only works because for each unique date, there is only one row for USA.\n",
    ":::\n",
    "\n",
    "Finally, we minus the number by `-1`, as we divide the US price by its own, so its always at 1. By subtracting `-1`, we set that to zero, which makes it wasy to see how the other countries are over or under that."
   ]
  },
  {
   "cell_type": "code",
   "execution_count": 13,
   "metadata": {},
   "outputs": [
    {
     "data": {
      "text/html": [
       "<div>\n",
       "<style scoped>\n",
       "    .dataframe tbody tr th:only-of-type {\n",
       "        vertical-align: middle;\n",
       "    }\n",
       "\n",
       "    .dataframe tbody tr th {\n",
       "        vertical-align: top;\n",
       "    }\n",
       "\n",
       "    .dataframe thead th {\n",
       "        text-align: right;\n",
       "    }\n",
       "</style>\n",
       "<table border=\"1\" class=\"dataframe\">\n",
       "  <thead>\n",
       "    <tr style=\"text-align: right;\">\n",
       "      <th></th>\n",
       "      <th>name</th>\n",
       "      <th>iso_a3</th>\n",
       "      <th>currency_code</th>\n",
       "      <th>local_price</th>\n",
       "      <th>dollar_ex</th>\n",
       "      <th>GDP_dollar</th>\n",
       "      <th>GDP_local</th>\n",
       "      <th>date</th>\n",
       "      <th>dollar_price</th>\n",
       "      <th>USD</th>\n",
       "    </tr>\n",
       "  </thead>\n",
       "  <tbody>\n",
       "    <tr>\n",
       "      <th>0</th>\n",
       "      <td>Vietnam</td>\n",
       "      <td>VNM</td>\n",
       "      <td>VND</td>\n",
       "      <td>69000.00</td>\n",
       "      <td>23417.00000</td>\n",
       "      <td>3724.543</td>\n",
       "      <td>8.542019e+07</td>\n",
       "      <td>2022-07-01</td>\n",
       "      <td>2.946577</td>\n",
       "      <td>-0.427849</td>\n",
       "    </tr>\n",
       "    <tr>\n",
       "      <th>1</th>\n",
       "      <td>Uruguay</td>\n",
       "      <td>URY</td>\n",
       "      <td>UYU</td>\n",
       "      <td>255.00</td>\n",
       "      <td>41.91000</td>\n",
       "      <td>16756.344</td>\n",
       "      <td>7.291942e+05</td>\n",
       "      <td>2022-07-01</td>\n",
       "      <td>6.084467</td>\n",
       "      <td>0.181450</td>\n",
       "    </tr>\n",
       "    <tr>\n",
       "      <th>2</th>\n",
       "      <td>United States</td>\n",
       "      <td>USA</td>\n",
       "      <td>USD</td>\n",
       "      <td>5.15</td>\n",
       "      <td>1.00000</td>\n",
       "      <td>69231.400</td>\n",
       "      <td>6.923140e+04</td>\n",
       "      <td>2022-07-01</td>\n",
       "      <td>5.150000</td>\n",
       "      <td>0.000000</td>\n",
       "    </tr>\n",
       "    <tr>\n",
       "      <th>3</th>\n",
       "      <td>United Arab Emirates</td>\n",
       "      <td>ARE</td>\n",
       "      <td>AED</td>\n",
       "      <td>18.00</td>\n",
       "      <td>3.67305</td>\n",
       "      <td>42883.686</td>\n",
       "      <td>1.574903e+05</td>\n",
       "      <td>2022-07-01</td>\n",
       "      <td>4.900559</td>\n",
       "      <td>-0.048435</td>\n",
       "    </tr>\n",
       "    <tr>\n",
       "      <th>4</th>\n",
       "      <td>Turkey</td>\n",
       "      <td>TUR</td>\n",
       "      <td>TRY</td>\n",
       "      <td>47.00</td>\n",
       "      <td>17.56500</td>\n",
       "      <td>9527.683</td>\n",
       "      <td>8.448134e+04</td>\n",
       "      <td>2022-07-01</td>\n",
       "      <td>2.675776</td>\n",
       "      <td>-0.480432</td>\n",
       "    </tr>\n",
       "    <tr>\n",
       "      <th>5</th>\n",
       "      <td>Thailand</td>\n",
       "      <td>THA</td>\n",
       "      <td>THB</td>\n",
       "      <td>128.00</td>\n",
       "      <td>36.61250</td>\n",
       "      <td>7336.086</td>\n",
       "      <td>2.313028e+05</td>\n",
       "      <td>2022-07-01</td>\n",
       "      <td>3.496074</td>\n",
       "      <td>-0.321151</td>\n",
       "    </tr>\n",
       "  </tbody>\n",
       "</table>\n",
       "</div>"
      ],
      "text/plain": [
       "                   name iso_a3 currency_code  local_price    dollar_ex  \\\n",
       "0               Vietnam    VNM           VND     69000.00  23417.00000   \n",
       "1               Uruguay    URY           UYU       255.00     41.91000   \n",
       "2         United States    USA           USD         5.15      1.00000   \n",
       "3  United Arab Emirates    ARE           AED        18.00      3.67305   \n",
       "4                Turkey    TUR           TRY        47.00     17.56500   \n",
       "5              Thailand    THA           THB       128.00     36.61250   \n",
       "\n",
       "   GDP_dollar     GDP_local       date  dollar_price       USD  \n",
       "0    3724.543  8.542019e+07 2022-07-01      2.946577 -0.427849  \n",
       "1   16756.344  7.291942e+05 2022-07-01      6.084467  0.181450  \n",
       "2   69231.400  6.923140e+04 2022-07-01      5.150000  0.000000  \n",
       "3   42883.686  1.574903e+05 2022-07-01      4.900559 -0.048435  \n",
       "4    9527.683  8.448134e+04 2022-07-01      2.675776 -0.480432  \n",
       "5    7336.086  2.313028e+05 2022-07-01      3.496074 -0.321151  "
      ]
     },
     "execution_count": 13,
     "metadata": {},
     "output_type": "execute_result"
    }
   ],
   "source": [
    "%%sql\n",
    "ALTER TABLE bigmac ADD COLUMN IF NOT EXISTS USD DOUBLE;\n",
    "\n",
    "update bigmac as b1\n",
    "    set USD = dollar_price / \n",
    "            (select b2.dollar_price from bigmac as b2\n",
    "            where b2.date = b1.date\n",
    "            and b2.iso_a3 = 'USA') - 1;\n",
    "\n",
    "select * from bigmac order by date desc, name desc limit 6;"
   ]
  },
  {
   "cell_type": "markdown",
   "metadata": {},
   "source": [
    "I did a few random checks and looks like the formula did use the right USD price to calculate the USD offset."
   ]
  },
  {
   "cell_type": "markdown",
   "metadata": {},
   "source": [
    "### Adjusted GDP based on big mac index\n",
    "\n",
    "Big Mac adjusted per capita GDP is the GDP in local currency divided by the exchange rate as determined by big macs (price in local currency divivded by price in US).\n",
    "\n",
    "The formula is: `GDP_Local / (local_price / dollar_price)`"
   ]
  },
  {
   "cell_type": "code",
   "execution_count": 14,
   "metadata": {},
   "outputs": [
    {
     "data": {
      "text/html": [
       "<div>\n",
       "<style scoped>\n",
       "    .dataframe tbody tr th:only-of-type {\n",
       "        vertical-align: middle;\n",
       "    }\n",
       "\n",
       "    .dataframe tbody tr th {\n",
       "        vertical-align: top;\n",
       "    }\n",
       "\n",
       "    .dataframe thead th {\n",
       "        text-align: right;\n",
       "    }\n",
       "</style>\n",
       "<table border=\"1\" class=\"dataframe\">\n",
       "  <thead>\n",
       "    <tr style=\"text-align: right;\">\n",
       "      <th></th>\n",
       "      <th>name</th>\n",
       "      <th>iso_a3</th>\n",
       "      <th>currency_code</th>\n",
       "      <th>local_price</th>\n",
       "      <th>dollar_ex</th>\n",
       "      <th>GDP_dollar</th>\n",
       "      <th>GDP_local</th>\n",
       "      <th>date</th>\n",
       "      <th>dollar_price</th>\n",
       "      <th>USD</th>\n",
       "      <th>GDP_bigmac</th>\n",
       "    </tr>\n",
       "  </thead>\n",
       "  <tbody>\n",
       "    <tr>\n",
       "      <th>0</th>\n",
       "      <td>Vietnam</td>\n",
       "      <td>VNM</td>\n",
       "      <td>VND</td>\n",
       "      <td>69000.00</td>\n",
       "      <td>23417.00000</td>\n",
       "      <td>3724.543</td>\n",
       "      <td>8.542019e+07</td>\n",
       "      <td>2022-07-01</td>\n",
       "      <td>2.946577</td>\n",
       "      <td>-0.427849</td>\n",
       "      <td>6375.564885</td>\n",
       "    </tr>\n",
       "    <tr>\n",
       "      <th>1</th>\n",
       "      <td>Uruguay</td>\n",
       "      <td>URY</td>\n",
       "      <td>UYU</td>\n",
       "      <td>255.00</td>\n",
       "      <td>41.91000</td>\n",
       "      <td>16756.344</td>\n",
       "      <td>7.291942e+05</td>\n",
       "      <td>2022-07-01</td>\n",
       "      <td>6.084467</td>\n",
       "      <td>0.181450</td>\n",
       "      <td>14726.863618</td>\n",
       "    </tr>\n",
       "    <tr>\n",
       "      <th>2</th>\n",
       "      <td>United States</td>\n",
       "      <td>USA</td>\n",
       "      <td>USD</td>\n",
       "      <td>5.15</td>\n",
       "      <td>1.00000</td>\n",
       "      <td>69231.400</td>\n",
       "      <td>6.923140e+04</td>\n",
       "      <td>2022-07-01</td>\n",
       "      <td>5.150000</td>\n",
       "      <td>0.000000</td>\n",
       "      <td>69231.400000</td>\n",
       "    </tr>\n",
       "    <tr>\n",
       "      <th>3</th>\n",
       "      <td>United Arab Emirates</td>\n",
       "      <td>ARE</td>\n",
       "      <td>AED</td>\n",
       "      <td>18.00</td>\n",
       "      <td>3.67305</td>\n",
       "      <td>42883.686</td>\n",
       "      <td>1.574903e+05</td>\n",
       "      <td>2022-07-01</td>\n",
       "      <td>4.900559</td>\n",
       "      <td>-0.048435</td>\n",
       "      <td>45059.735594</td>\n",
       "    </tr>\n",
       "    <tr>\n",
       "      <th>4</th>\n",
       "      <td>Turkey</td>\n",
       "      <td>TUR</td>\n",
       "      <td>TRY</td>\n",
       "      <td>47.00</td>\n",
       "      <td>17.56500</td>\n",
       "      <td>9527.683</td>\n",
       "      <td>8.448134e+04</td>\n",
       "      <td>2022-07-01</td>\n",
       "      <td>2.675776</td>\n",
       "      <td>-0.480432</td>\n",
       "      <td>9256.997784</td>\n",
       "    </tr>\n",
       "    <tr>\n",
       "      <th>5</th>\n",
       "      <td>Thailand</td>\n",
       "      <td>THA</td>\n",
       "      <td>THB</td>\n",
       "      <td>128.00</td>\n",
       "      <td>36.61250</td>\n",
       "      <td>7336.086</td>\n",
       "      <td>2.313028e+05</td>\n",
       "      <td>2022-07-01</td>\n",
       "      <td>3.496074</td>\n",
       "      <td>-0.321151</td>\n",
       "      <td>9306.323554</td>\n",
       "    </tr>\n",
       "  </tbody>\n",
       "</table>\n",
       "</div>"
      ],
      "text/plain": [
       "                   name iso_a3 currency_code  local_price    dollar_ex  \\\n",
       "0               Vietnam    VNM           VND     69000.00  23417.00000   \n",
       "1               Uruguay    URY           UYU       255.00     41.91000   \n",
       "2         United States    USA           USD         5.15      1.00000   \n",
       "3  United Arab Emirates    ARE           AED        18.00      3.67305   \n",
       "4                Turkey    TUR           TRY        47.00     17.56500   \n",
       "5              Thailand    THA           THB       128.00     36.61250   \n",
       "\n",
       "   GDP_dollar     GDP_local       date  dollar_price       USD    GDP_bigmac  \n",
       "0    3724.543  8.542019e+07 2022-07-01      2.946577 -0.427849   6375.564885  \n",
       "1   16756.344  7.291942e+05 2022-07-01      6.084467  0.181450  14726.863618  \n",
       "2   69231.400  6.923140e+04 2022-07-01      5.150000  0.000000  69231.400000  \n",
       "3   42883.686  1.574903e+05 2022-07-01      4.900559 -0.048435  45059.735594  \n",
       "4    9527.683  8.448134e+04 2022-07-01      2.675776 -0.480432   9256.997784  \n",
       "5    7336.086  2.313028e+05 2022-07-01      3.496074 -0.321151   9306.323554  "
      ]
     },
     "execution_count": 14,
     "metadata": {},
     "output_type": "execute_result"
    }
   ],
   "source": [
    "%%sql\n",
    "ALTER TABLE bigmac ADD COLUMN IF NOT EXISTS GDP_bigmac DOUBLE;\n",
    "\n",
    "update bigmac as b1\n",
    "    set GDP_bigmac = GDP_local / \n",
    "            (local_price / (select b2.dollar_price from bigmac as b2\n",
    "            where b2.date = b1.date\n",
    "            and b2.iso_a3 = 'USA'));\n",
    "\n",
    "select * from bigmac order by date desc, name desc limit 6;"
   ]
  },
  {
   "cell_type": "markdown",
   "metadata": {},
   "source": [
    "And presto, we have a gdp per big mac, which for most countries is significantly different from each other. A couple of plots to eyeball this:"
   ]
  },
  {
   "cell_type": "code",
   "execution_count": 15,
   "metadata": {},
   "outputs": [
    {
     "data": {
      "application/vnd.plotly.v1+json": {
       "config": {
        "plotlyServerURL": "https://plot.ly"
       },
       "data": [
        {
         "hovertemplate": "variable=GDP_dollar<br>date=%{x}<br>value=%{y}<extra></extra>",
         "legendgroup": "GDP_dollar",
         "line": {
          "color": "#636efa",
          "dash": "solid"
         },
         "marker": {
          "symbol": "circle"
         },
         "mode": "markers+lines",
         "name": "GDP_dollar",
         "orientation": "v",
         "showlegend": true,
         "type": "scatter",
         "x": [
          "2004-05-01T00:00:00",
          "2005-06-01T00:00:00",
          "2006-05-01T00:00:00",
          "2007-01-01T00:00:00",
          "2007-06-01T00:00:00",
          "2008-06-01T00:00:00",
          "2009-07-01T00:00:00",
          "2010-01-01T00:00:00",
          "2010-07-01T00:00:00",
          "2011-07-01T00:00:00",
          "2012-01-01T00:00:00",
          "2012-07-01T00:00:00",
          "2013-01-01T00:00:00",
          "2013-07-01T00:00:00",
          "2014-01-01T00:00:00",
          "2014-07-01T00:00:00",
          "2015-01-01T00:00:00",
          "2015-07-01T00:00:00",
          "2016-01-01T00:00:00",
          "2016-07-01T00:00:00",
          "2017-01-01T00:00:00",
          "2017-07-01T00:00:00",
          "2018-01-01T00:00:00",
          "2018-07-01T00:00:00",
          "2019-01-01T00:00:00",
          "2019-07-09T00:00:00",
          "2020-01-14T00:00:00",
          "2020-07-01T00:00:00",
          "2021-01-01T00:00:00",
          "2021-07-01T00:00:00",
          "2022-01-01T00:00:00",
          "2022-07-01T00:00:00"
         ],
         "xaxis": "x",
         "y": [
          689.826,
          793.927,
          869.227,
          994.373,
          994.373,
          1084.443,
          1160.14,
          1118.452,
          1118.452,
          1158.34,
          1369.467,
          1369.467,
          1403.632,
          1403.632,
          1422.193,
          1422.193,
          1474.61,
          1474.61,
          1601.52,
          1601.52,
          1563.112,
          1563.112,
          1653.484,
          1653.484,
          1689.804,
          1689.804,
          1488.562,
          1488.562,
          1371.407,
          1371.407,
          1562.258,
          1562.258
         ],
         "yaxis": "y"
        },
        {
         "hovertemplate": "variable=GDP_bigmac<br>date=%{x}<br>value=%{y}<extra></extra>",
         "legendgroup": "GDP_bigmac",
         "line": {
          "color": "#EF553B",
          "dash": "solid"
         },
         "marker": {
          "symbol": "circle"
         },
         "mode": "markers+lines",
         "name": "GDP_bigmac",
         "orientation": "v",
         "showlegend": true,
         "type": "scatter",
         "x": [
          "2004-05-01T00:00:00",
          "2005-06-01T00:00:00",
          "2006-05-01T00:00:00",
          "2007-01-01T00:00:00",
          "2007-06-01T00:00:00",
          "2008-06-01T00:00:00",
          "2009-07-01T00:00:00",
          "2010-01-01T00:00:00",
          "2010-07-01T00:00:00",
          "2011-07-01T00:00:00",
          "2012-01-01T00:00:00",
          "2012-07-01T00:00:00",
          "2013-01-01T00:00:00",
          "2013-07-01T00:00:00",
          "2014-01-01T00:00:00",
          "2014-07-01T00:00:00",
          "2015-01-01T00:00:00",
          "2015-07-01T00:00:00",
          "2016-01-01T00:00:00",
          "2016-07-01T00:00:00",
          "2017-01-01T00:00:00",
          "2017-07-01T00:00:00",
          "2018-01-01T00:00:00",
          "2018-07-01T00:00:00",
          "2019-01-01T00:00:00",
          "2019-07-09T00:00:00",
          "2020-01-14T00:00:00",
          "2020-07-01T00:00:00",
          "2021-01-01T00:00:00",
          "2021-07-01T00:00:00",
          "2022-01-01T00:00:00",
          "2022-07-01T00:00:00"
         ],
         "xaxis": "x",
         "y": [
          904.984041,
          907.4146975384616,
          1105.4201676923076,
          1228.6343493571428,
          1275.3989785714286,
          1507.5298632857143,
          1312.665928368421,
          1514.9740448500002,
          1484.8975089047617,
          1729.0214712621269,
          1719.442551807692,
          1630.370724631579,
          1752.5165113793105,
          1757.155099333333,
          1828.9531632500002,
          1973.8890743,
          2175.671927,
          1864.861651714286,
          2326.2841173,
          1952.1265320000002,
          1961.639388,
          1961.639388,
          2130.24640656,
          2134.86733152,
          1913.0849872173912,
          1833.3731127499998,
          1897.5344021153846,
          1794.0325256363637,
          1935.9858790363637,
          1850.8658455,
          2129.4724478644066,
          1834.014181642857
         ],
         "yaxis": "y"
        }
       ],
       "layout": {
        "legend": {
         "title": {
          "text": "variable"
         },
         "tracegroupgap": 0
        },
        "template": {
         "data": {
          "bar": [
           {
            "error_x": {
             "color": "#2a3f5f"
            },
            "error_y": {
             "color": "#2a3f5f"
            },
            "marker": {
             "line": {
              "color": "#E5ECF6",
              "width": 0.5
             },
             "pattern": {
              "fillmode": "overlay",
              "size": 10,
              "solidity": 0.2
             }
            },
            "type": "bar"
           }
          ],
          "barpolar": [
           {
            "marker": {
             "line": {
              "color": "#E5ECF6",
              "width": 0.5
             },
             "pattern": {
              "fillmode": "overlay",
              "size": 10,
              "solidity": 0.2
             }
            },
            "type": "barpolar"
           }
          ],
          "carpet": [
           {
            "aaxis": {
             "endlinecolor": "#2a3f5f",
             "gridcolor": "white",
             "linecolor": "white",
             "minorgridcolor": "white",
             "startlinecolor": "#2a3f5f"
            },
            "baxis": {
             "endlinecolor": "#2a3f5f",
             "gridcolor": "white",
             "linecolor": "white",
             "minorgridcolor": "white",
             "startlinecolor": "#2a3f5f"
            },
            "type": "carpet"
           }
          ],
          "choropleth": [
           {
            "colorbar": {
             "outlinewidth": 0,
             "ticks": ""
            },
            "type": "choropleth"
           }
          ],
          "contour": [
           {
            "colorbar": {
             "outlinewidth": 0,
             "ticks": ""
            },
            "colorscale": [
             [
              0,
              "#0d0887"
             ],
             [
              0.1111111111111111,
              "#46039f"
             ],
             [
              0.2222222222222222,
              "#7201a8"
             ],
             [
              0.3333333333333333,
              "#9c179e"
             ],
             [
              0.4444444444444444,
              "#bd3786"
             ],
             [
              0.5555555555555556,
              "#d8576b"
             ],
             [
              0.6666666666666666,
              "#ed7953"
             ],
             [
              0.7777777777777778,
              "#fb9f3a"
             ],
             [
              0.8888888888888888,
              "#fdca26"
             ],
             [
              1,
              "#f0f921"
             ]
            ],
            "type": "contour"
           }
          ],
          "contourcarpet": [
           {
            "colorbar": {
             "outlinewidth": 0,
             "ticks": ""
            },
            "type": "contourcarpet"
           }
          ],
          "heatmap": [
           {
            "colorbar": {
             "outlinewidth": 0,
             "ticks": ""
            },
            "colorscale": [
             [
              0,
              "#0d0887"
             ],
             [
              0.1111111111111111,
              "#46039f"
             ],
             [
              0.2222222222222222,
              "#7201a8"
             ],
             [
              0.3333333333333333,
              "#9c179e"
             ],
             [
              0.4444444444444444,
              "#bd3786"
             ],
             [
              0.5555555555555556,
              "#d8576b"
             ],
             [
              0.6666666666666666,
              "#ed7953"
             ],
             [
              0.7777777777777778,
              "#fb9f3a"
             ],
             [
              0.8888888888888888,
              "#fdca26"
             ],
             [
              1,
              "#f0f921"
             ]
            ],
            "type": "heatmap"
           }
          ],
          "heatmapgl": [
           {
            "colorbar": {
             "outlinewidth": 0,
             "ticks": ""
            },
            "colorscale": [
             [
              0,
              "#0d0887"
             ],
             [
              0.1111111111111111,
              "#46039f"
             ],
             [
              0.2222222222222222,
              "#7201a8"
             ],
             [
              0.3333333333333333,
              "#9c179e"
             ],
             [
              0.4444444444444444,
              "#bd3786"
             ],
             [
              0.5555555555555556,
              "#d8576b"
             ],
             [
              0.6666666666666666,
              "#ed7953"
             ],
             [
              0.7777777777777778,
              "#fb9f3a"
             ],
             [
              0.8888888888888888,
              "#fdca26"
             ],
             [
              1,
              "#f0f921"
             ]
            ],
            "type": "heatmapgl"
           }
          ],
          "histogram": [
           {
            "marker": {
             "pattern": {
              "fillmode": "overlay",
              "size": 10,
              "solidity": 0.2
             }
            },
            "type": "histogram"
           }
          ],
          "histogram2d": [
           {
            "colorbar": {
             "outlinewidth": 0,
             "ticks": ""
            },
            "colorscale": [
             [
              0,
              "#0d0887"
             ],
             [
              0.1111111111111111,
              "#46039f"
             ],
             [
              0.2222222222222222,
              "#7201a8"
             ],
             [
              0.3333333333333333,
              "#9c179e"
             ],
             [
              0.4444444444444444,
              "#bd3786"
             ],
             [
              0.5555555555555556,
              "#d8576b"
             ],
             [
              0.6666666666666666,
              "#ed7953"
             ],
             [
              0.7777777777777778,
              "#fb9f3a"
             ],
             [
              0.8888888888888888,
              "#fdca26"
             ],
             [
              1,
              "#f0f921"
             ]
            ],
            "type": "histogram2d"
           }
          ],
          "histogram2dcontour": [
           {
            "colorbar": {
             "outlinewidth": 0,
             "ticks": ""
            },
            "colorscale": [
             [
              0,
              "#0d0887"
             ],
             [
              0.1111111111111111,
              "#46039f"
             ],
             [
              0.2222222222222222,
              "#7201a8"
             ],
             [
              0.3333333333333333,
              "#9c179e"
             ],
             [
              0.4444444444444444,
              "#bd3786"
             ],
             [
              0.5555555555555556,
              "#d8576b"
             ],
             [
              0.6666666666666666,
              "#ed7953"
             ],
             [
              0.7777777777777778,
              "#fb9f3a"
             ],
             [
              0.8888888888888888,
              "#fdca26"
             ],
             [
              1,
              "#f0f921"
             ]
            ],
            "type": "histogram2dcontour"
           }
          ],
          "mesh3d": [
           {
            "colorbar": {
             "outlinewidth": 0,
             "ticks": ""
            },
            "type": "mesh3d"
           }
          ],
          "parcoords": [
           {
            "line": {
             "colorbar": {
              "outlinewidth": 0,
              "ticks": ""
             }
            },
            "type": "parcoords"
           }
          ],
          "pie": [
           {
            "automargin": true,
            "type": "pie"
           }
          ],
          "scatter": [
           {
            "fillpattern": {
             "fillmode": "overlay",
             "size": 10,
             "solidity": 0.2
            },
            "type": "scatter"
           }
          ],
          "scatter3d": [
           {
            "line": {
             "colorbar": {
              "outlinewidth": 0,
              "ticks": ""
             }
            },
            "marker": {
             "colorbar": {
              "outlinewidth": 0,
              "ticks": ""
             }
            },
            "type": "scatter3d"
           }
          ],
          "scattercarpet": [
           {
            "marker": {
             "colorbar": {
              "outlinewidth": 0,
              "ticks": ""
             }
            },
            "type": "scattercarpet"
           }
          ],
          "scattergeo": [
           {
            "marker": {
             "colorbar": {
              "outlinewidth": 0,
              "ticks": ""
             }
            },
            "type": "scattergeo"
           }
          ],
          "scattergl": [
           {
            "marker": {
             "colorbar": {
              "outlinewidth": 0,
              "ticks": ""
             }
            },
            "type": "scattergl"
           }
          ],
          "scattermapbox": [
           {
            "marker": {
             "colorbar": {
              "outlinewidth": 0,
              "ticks": ""
             }
            },
            "type": "scattermapbox"
           }
          ],
          "scatterpolar": [
           {
            "marker": {
             "colorbar": {
              "outlinewidth": 0,
              "ticks": ""
             }
            },
            "type": "scatterpolar"
           }
          ],
          "scatterpolargl": [
           {
            "marker": {
             "colorbar": {
              "outlinewidth": 0,
              "ticks": ""
             }
            },
            "type": "scatterpolargl"
           }
          ],
          "scatterternary": [
           {
            "marker": {
             "colorbar": {
              "outlinewidth": 0,
              "ticks": ""
             }
            },
            "type": "scatterternary"
           }
          ],
          "surface": [
           {
            "colorbar": {
             "outlinewidth": 0,
             "ticks": ""
            },
            "colorscale": [
             [
              0,
              "#0d0887"
             ],
             [
              0.1111111111111111,
              "#46039f"
             ],
             [
              0.2222222222222222,
              "#7201a8"
             ],
             [
              0.3333333333333333,
              "#9c179e"
             ],
             [
              0.4444444444444444,
              "#bd3786"
             ],
             [
              0.5555555555555556,
              "#d8576b"
             ],
             [
              0.6666666666666666,
              "#ed7953"
             ],
             [
              0.7777777777777778,
              "#fb9f3a"
             ],
             [
              0.8888888888888888,
              "#fdca26"
             ],
             [
              1,
              "#f0f921"
             ]
            ],
            "type": "surface"
           }
          ],
          "table": [
           {
            "cells": {
             "fill": {
              "color": "#EBF0F8"
             },
             "line": {
              "color": "white"
             }
            },
            "header": {
             "fill": {
              "color": "#C8D4E3"
             },
             "line": {
              "color": "white"
             }
            },
            "type": "table"
           }
          ]
         },
         "layout": {
          "annotationdefaults": {
           "arrowcolor": "#2a3f5f",
           "arrowhead": 0,
           "arrowwidth": 1
          },
          "autotypenumbers": "strict",
          "coloraxis": {
           "colorbar": {
            "outlinewidth": 0,
            "ticks": ""
           }
          },
          "colorscale": {
           "diverging": [
            [
             0,
             "#8e0152"
            ],
            [
             0.1,
             "#c51b7d"
            ],
            [
             0.2,
             "#de77ae"
            ],
            [
             0.3,
             "#f1b6da"
            ],
            [
             0.4,
             "#fde0ef"
            ],
            [
             0.5,
             "#f7f7f7"
            ],
            [
             0.6,
             "#e6f5d0"
            ],
            [
             0.7,
             "#b8e186"
            ],
            [
             0.8,
             "#7fbc41"
            ],
            [
             0.9,
             "#4d9221"
            ],
            [
             1,
             "#276419"
            ]
           ],
           "sequential": [
            [
             0,
             "#0d0887"
            ],
            [
             0.1111111111111111,
             "#46039f"
            ],
            [
             0.2222222222222222,
             "#7201a8"
            ],
            [
             0.3333333333333333,
             "#9c179e"
            ],
            [
             0.4444444444444444,
             "#bd3786"
            ],
            [
             0.5555555555555556,
             "#d8576b"
            ],
            [
             0.6666666666666666,
             "#ed7953"
            ],
            [
             0.7777777777777778,
             "#fb9f3a"
            ],
            [
             0.8888888888888888,
             "#fdca26"
            ],
            [
             1,
             "#f0f921"
            ]
           ],
           "sequentialminus": [
            [
             0,
             "#0d0887"
            ],
            [
             0.1111111111111111,
             "#46039f"
            ],
            [
             0.2222222222222222,
             "#7201a8"
            ],
            [
             0.3333333333333333,
             "#9c179e"
            ],
            [
             0.4444444444444444,
             "#bd3786"
            ],
            [
             0.5555555555555556,
             "#d8576b"
            ],
            [
             0.6666666666666666,
             "#ed7953"
            ],
            [
             0.7777777777777778,
             "#fb9f3a"
            ],
            [
             0.8888888888888888,
             "#fdca26"
            ],
            [
             1,
             "#f0f921"
            ]
           ]
          },
          "colorway": [
           "#636efa",
           "#EF553B",
           "#00cc96",
           "#ab63fa",
           "#FFA15A",
           "#19d3f3",
           "#FF6692",
           "#B6E880",
           "#FF97FF",
           "#FECB52"
          ],
          "font": {
           "color": "#2a3f5f"
          },
          "geo": {
           "bgcolor": "white",
           "lakecolor": "white",
           "landcolor": "#E5ECF6",
           "showlakes": true,
           "showland": true,
           "subunitcolor": "white"
          },
          "hoverlabel": {
           "align": "left"
          },
          "hovermode": "closest",
          "mapbox": {
           "style": "light"
          },
          "paper_bgcolor": "white",
          "plot_bgcolor": "#E5ECF6",
          "polar": {
           "angularaxis": {
            "gridcolor": "white",
            "linecolor": "white",
            "ticks": ""
           },
           "bgcolor": "#E5ECF6",
           "radialaxis": {
            "gridcolor": "white",
            "linecolor": "white",
            "ticks": ""
           }
          },
          "scene": {
           "xaxis": {
            "backgroundcolor": "#E5ECF6",
            "gridcolor": "white",
            "gridwidth": 2,
            "linecolor": "white",
            "showbackground": true,
            "ticks": "",
            "zerolinecolor": "white"
           },
           "yaxis": {
            "backgroundcolor": "#E5ECF6",
            "gridcolor": "white",
            "gridwidth": 2,
            "linecolor": "white",
            "showbackground": true,
            "ticks": "",
            "zerolinecolor": "white"
           },
           "zaxis": {
            "backgroundcolor": "#E5ECF6",
            "gridcolor": "white",
            "gridwidth": 2,
            "linecolor": "white",
            "showbackground": true,
            "ticks": "",
            "zerolinecolor": "white"
           }
          },
          "shapedefaults": {
           "line": {
            "color": "#2a3f5f"
           }
          },
          "ternary": {
           "aaxis": {
            "gridcolor": "white",
            "linecolor": "white",
            "ticks": ""
           },
           "baxis": {
            "gridcolor": "white",
            "linecolor": "white",
            "ticks": ""
           },
           "bgcolor": "#E5ECF6",
           "caxis": {
            "gridcolor": "white",
            "linecolor": "white",
            "ticks": ""
           }
          },
          "title": {
           "x": 0.05
          },
          "xaxis": {
           "automargin": true,
           "gridcolor": "white",
           "linecolor": "white",
           "ticks": "",
           "title": {
            "standoff": 15
           },
           "zerolinecolor": "white",
           "zerolinewidth": 2
          },
          "yaxis": {
           "automargin": true,
           "gridcolor": "white",
           "linecolor": "white",
           "ticks": "",
           "title": {
            "standoff": 15
           },
           "zerolinecolor": "white",
           "zerolinewidth": 2
          }
         }
        },
        "title": {
         "text": "Pakistan: GDP local vs bigmac"
        },
        "xaxis": {
         "anchor": "y",
         "domain": [
          0,
          1
         ],
         "title": {
          "text": "date"
         }
        },
        "yaxis": {
         "anchor": "x",
         "domain": [
          0,
          1
         ],
         "title": {
          "text": "value"
         }
        }
       }
      }
     },
     "metadata": {},
     "output_type": "display_data"
    }
   ],
   "source": [
    "#| code-fold: true\n",
    "country = \"Pakistan\"\n",
    "df = %sql select * from bigmac where name in ('{{country}}')\n",
    "fig = px.line(df, x=\"date\", y=[\"GDP_dollar\", \"GDP_bigmac\"], \n",
    "              title=f\"{country}: GDP local vs bigmac\",\n",
    "              markers=True)\n",
    "fig.show()"
   ]
  },
  {
   "cell_type": "code",
   "execution_count": 16,
   "metadata": {},
   "outputs": [
    {
     "data": {
      "image/png": "[encoded data removed]",
      "text/plain": [
       "<Figure size 800x400 with 1 Axes>"
      ]
     },
     "metadata": {},
     "output_type": "display_data"
    }
   ],
   "source": [
    "#| code-fold: true\n",
    "df = %sql select * from bigmac;\n",
    "\n",
    "fig, ax = plt.subplots(figsize=(8, 4))\n",
    "ax.spines[[\"top\", \"right\"]].set_visible(False)\n",
    "ax.set_title(\"GDP Bigmac vs dollar\", loc=\"left\", weight=\"bold\")\n",
    "\n",
    "for name in [\"Pakistan\", \"India\"]:\n",
    "    d = df.query(\"name == @name\")\n",
    "    ax.plot(d.date, d.GDP_bigmac, alpha=0.8, label=f\"{name}\")\n",
    "    ax.fill_between(d.date, d.GDP_bigmac, d.GDP_dollar, alpha=0.12)\n",
    "    #ax.plot(d.date, d.GDP_dollar, alpha=0.6, ls=\"--\")\n",
    "\n",
    "ax.legend();"
   ]
  },
  {
   "cell_type": "markdown",
   "metadata": {},
   "source": [
    "This is interesting, you can see the indian dollar even though its close to the Pakistan one in GDP_dollar terms, the big mac index GDP says it buys a lot more."
   ]
  },
  {
   "cell_type": "markdown",
   "metadata": {},
   "source": [
    "### TODO: Adjusted big mac index\n",
    "\n",
    "This uses the big mac adjusted per capita GDP price calculated above to get a adjusted dollar price for a bigmac. This looks very similar to first big mac index so left this calc for a future date.\n",
    "\n",
    "See [Calculating the adjusted index](https://github.com/theeconomist/big-mac-data/blob/master/Big%20Mac%20data%20generator.ipynb) for details."
   ]
  },
  {
   "cell_type": "markdown",
   "metadata": {},
   "source": [
    "## Adding country data\n",
    "\n",
    "There are a lot of countries in the index, which will make the graph a bit messy, so to add some groups to the counties (and do more sql!) I'm going to use the world banks [income dataset](https://datahelpdesk.worldbank.org/knowledgebase/articles/906519-world-bank-country-and-lending-groups), primary to add regions and income groups."
   ]
  },
  {
   "cell_type": "code",
   "execution_count": 17,
   "metadata": {},
   "outputs": [
    {
     "data": {
      "text/html": [
       "<div>\n",
       "<style scoped>\n",
       "    .dataframe tbody tr th:only-of-type {\n",
       "        vertical-align: middle;\n",
       "    }\n",
       "\n",
       "    .dataframe tbody tr th {\n",
       "        vertical-align: top;\n",
       "    }\n",
       "\n",
       "    .dataframe thead th {\n",
       "        text-align: right;\n",
       "    }\n",
       "</style>\n",
       "<table border=\"1\" class=\"dataframe\">\n",
       "  <thead>\n",
       "    <tr style=\"text-align: right;\">\n",
       "      <th></th>\n",
       "      <th>Economy</th>\n",
       "      <th>iso_a3</th>\n",
       "      <th>Region</th>\n",
       "      <th>income_group</th>\n",
       "    </tr>\n",
       "  </thead>\n",
       "  <tbody>\n",
       "    <tr>\n",
       "      <th>215</th>\n",
       "      <td>South Africa</td>\n",
       "      <td>ZAF</td>\n",
       "      <td>Sub-Saharan Africa</td>\n",
       "      <td>Upper middle income</td>\n",
       "    </tr>\n",
       "    <tr>\n",
       "      <th>216</th>\n",
       "      <td>Zambia</td>\n",
       "      <td>ZMB</td>\n",
       "      <td>Sub-Saharan Africa</td>\n",
       "      <td>Lower middle income</td>\n",
       "    </tr>\n",
       "    <tr>\n",
       "      <th>217</th>\n",
       "      <td>Eurozone</td>\n",
       "      <td>EUZ</td>\n",
       "      <td>Europe</td>\n",
       "      <td>High income</td>\n",
       "    </tr>\n",
       "  </tbody>\n",
       "</table>\n",
       "</div>"
      ],
      "text/plain": [
       "          Economy iso_a3              Region         income_group\n",
       "215  South Africa    ZAF  Sub-Saharan Africa  Upper middle income\n",
       "216        Zambia    ZMB  Sub-Saharan Africa  Lower middle income\n",
       "217      Eurozone    EUZ              Europe          High income"
      ]
     },
     "execution_count": 17,
     "metadata": {},
     "output_type": "execute_result"
    }
   ],
   "source": [
    "df_income = pd.read_excel(\n",
    "    \"https://datacatalogfiles.worldbank.org/ddh-published/0037712/DR0090755/CLASS.xlsx\"\n",
    ")\n",
    "\n",
    "df_income = (\n",
    "    df_income.dropna(subset=[\"Income group\", \"Economy\"])\n",
    "    .drop(columns=\"Lending category\")\n",
    "    .rename(columns={\"Code\": \"iso_a3\", \"Income group\": \"income_group\"})\n",
    ")\n",
    "\n",
    "# adding in the missing eurozone\n",
    "euro_row = [\"Eurozone\", \"EUZ\", \"Europe\", \"High income\"]\n",
    "df_income.loc[len(df_income)] = euro_row\n",
    "\n",
    "df_income.tail(3)"
   ]
  },
  {
   "cell_type": "markdown",
   "metadata": {},
   "source": [
    "No need to do this step, but for more sql goodness, lets add this as a table in our database so we can practice joining two tables:"
   ]
  },
  {
   "cell_type": "code",
   "execution_count": 18,
   "metadata": {},
   "outputs": [
    {
     "data": {
      "text/html": [
       "<div>\n",
       "<style scoped>\n",
       "    .dataframe tbody tr th:only-of-type {\n",
       "        vertical-align: middle;\n",
       "    }\n",
       "\n",
       "    .dataframe tbody tr th {\n",
       "        vertical-align: top;\n",
       "    }\n",
       "\n",
       "    .dataframe thead th {\n",
       "        text-align: right;\n",
       "    }\n",
       "</style>\n",
       "<table border=\"1\" class=\"dataframe\">\n",
       "  <thead>\n",
       "    <tr style=\"text-align: right;\">\n",
       "      <th></th>\n",
       "      <th>Economy</th>\n",
       "      <th>iso_a3</th>\n",
       "      <th>Region</th>\n",
       "      <th>income_group</th>\n",
       "    </tr>\n",
       "  </thead>\n",
       "  <tbody>\n",
       "    <tr>\n",
       "      <th>0</th>\n",
       "      <td>Aruba</td>\n",
       "      <td>ABW</td>\n",
       "      <td>Latin America &amp; Caribbean</td>\n",
       "      <td>High income</td>\n",
       "    </tr>\n",
       "    <tr>\n",
       "      <th>1</th>\n",
       "      <td>Afghanistan</td>\n",
       "      <td>AFG</td>\n",
       "      <td>South Asia</td>\n",
       "      <td>Low income</td>\n",
       "    </tr>\n",
       "    <tr>\n",
       "      <th>2</th>\n",
       "      <td>Angola</td>\n",
       "      <td>AGO</td>\n",
       "      <td>Sub-Saharan Africa</td>\n",
       "      <td>Lower middle income</td>\n",
       "    </tr>\n",
       "  </tbody>\n",
       "</table>\n",
       "</div>"
      ],
      "text/plain": [
       "       Economy iso_a3                     Region         income_group\n",
       "0        Aruba    ABW  Latin America & Caribbean          High income\n",
       "1  Afghanistan    AFG                 South Asia           Low income\n",
       "2       Angola    AGO         Sub-Saharan Africa  Lower middle income"
      ]
     },
     "execution_count": 18,
     "metadata": {},
     "output_type": "execute_result"
    }
   ],
   "source": [
    "%%sql\n",
    "create table income as select * from df_income;\n",
    "select * from income limit 3;"
   ]
  },
  {
   "cell_type": "markdown",
   "metadata": {},
   "source": [
    "### Joining the two tables \n",
    "\n",
    "Here we join these two tables into a dataframe for plotting. \n",
    "\n",
    "I am using a left join as I want to keep all data in the bigmac table, and just add country info.\n",
    "\n",
    "::: {.callout-warning}\n",
    "Don't write sql like below, use capitals and linebreaks! \n",
    ":::"
   ]
  },
  {
   "cell_type": "code",
   "execution_count": 19,
   "metadata": {},
   "outputs": [
    {
     "data": {
      "text/html": [
       "<div>\n",
       "<style scoped>\n",
       "    .dataframe tbody tr th:only-of-type {\n",
       "        vertical-align: middle;\n",
       "    }\n",
       "\n",
       "    .dataframe tbody tr th {\n",
       "        vertical-align: top;\n",
       "    }\n",
       "\n",
       "    .dataframe thead th {\n",
       "        text-align: right;\n",
       "    }\n",
       "</style>\n",
       "<table border=\"1\" class=\"dataframe\">\n",
       "  <thead>\n",
       "    <tr style=\"text-align: right;\">\n",
       "      <th></th>\n",
       "      <th>name</th>\n",
       "      <th>iso_a3</th>\n",
       "      <th>currency_code</th>\n",
       "      <th>local_price</th>\n",
       "      <th>dollar_ex</th>\n",
       "      <th>GDP_dollar</th>\n",
       "      <th>GDP_local</th>\n",
       "      <th>date</th>\n",
       "      <th>dollar_price</th>\n",
       "      <th>USD</th>\n",
       "      <th>GDP_bigmac</th>\n",
       "      <th>Economy</th>\n",
       "      <th>iso_a3_2</th>\n",
       "      <th>Region</th>\n",
       "      <th>income_group</th>\n",
       "    </tr>\n",
       "  </thead>\n",
       "  <tbody>\n",
       "    <tr>\n",
       "      <th>0</th>\n",
       "      <td>Argentina</td>\n",
       "      <td>ARG</td>\n",
       "      <td>ARS</td>\n",
       "      <td>2.50</td>\n",
       "      <td>1.00</td>\n",
       "      <td>8709.072</td>\n",
       "      <td>8709.072</td>\n",
       "      <td>2000-04-01</td>\n",
       "      <td>2.500000</td>\n",
       "      <td>0.116071</td>\n",
       "      <td>7803.328512</td>\n",
       "      <td>Argentina</td>\n",
       "      <td>ARG</td>\n",
       "      <td>Latin America &amp; Caribbean</td>\n",
       "      <td>Upper middle income</td>\n",
       "    </tr>\n",
       "    <tr>\n",
       "      <th>1</th>\n",
       "      <td>Australia</td>\n",
       "      <td>AUS</td>\n",
       "      <td>AUD</td>\n",
       "      <td>2.59</td>\n",
       "      <td>1.68</td>\n",
       "      <td>21746.809</td>\n",
       "      <td>33698.764</td>\n",
       "      <td>2000-04-01</td>\n",
       "      <td>1.541667</td>\n",
       "      <td>-0.311756</td>\n",
       "      <td>29144.876973</td>\n",
       "      <td>Australia</td>\n",
       "      <td>AUS</td>\n",
       "      <td>East Asia &amp; Pacific</td>\n",
       "      <td>High income</td>\n",
       "    </tr>\n",
       "  </tbody>\n",
       "</table>\n",
       "</div>"
      ],
      "text/plain": [
       "        name iso_a3 currency_code  local_price  dollar_ex  GDP_dollar  \\\n",
       "0  Argentina    ARG           ARS         2.50       1.00    8709.072   \n",
       "1  Australia    AUS           AUD         2.59       1.68   21746.809   \n",
       "\n",
       "   GDP_local       date  dollar_price       USD    GDP_bigmac    Economy  \\\n",
       "0   8709.072 2000-04-01      2.500000  0.116071   7803.328512  Argentina   \n",
       "1  33698.764 2000-04-01      1.541667 -0.311756  29144.876973  Australia   \n",
       "\n",
       "  iso_a3_2                     Region         income_group  \n",
       "0      ARG  Latin America & Caribbean  Upper middle income  \n",
       "1      AUS        East Asia & Pacific          High income  "
      ]
     },
     "execution_count": 19,
     "metadata": {},
     "output_type": "execute_result"
    }
   ],
   "source": [
    "df_all = %sql select * from bigmac left join income on bigmac.iso_a3 = income.iso_a3 order by bigmac.date asc;\n",
    "df_all.head(2)"
   ]
  },
  {
   "cell_type": "markdown",
   "metadata": {},
   "source": [
    "Everything looks good here, we now have a dataframe which combines the two tables and is ready to plot."
   ]
  },
  {
   "cell_type": "markdown",
   "metadata": {},
   "source": [
    "## Big Mac Index chart using Matplotlib\n",
    "\n",
    "This is going to be ugly, but its good matplotlib practice. First up, for the economist plot we just want the latest date:"
   ]
  },
  {
   "cell_type": "code",
   "execution_count": 20,
   "metadata": {},
   "outputs": [
    {
     "data": {
      "text/html": [
       "<div>\n",
       "<style scoped>\n",
       "    .dataframe tbody tr th:only-of-type {\n",
       "        vertical-align: middle;\n",
       "    }\n",
       "\n",
       "    .dataframe tbody tr th {\n",
       "        vertical-align: top;\n",
       "    }\n",
       "\n",
       "    .dataframe thead th {\n",
       "        text-align: right;\n",
       "    }\n",
       "</style>\n",
       "<table border=\"1\" class=\"dataframe\">\n",
       "  <thead>\n",
       "    <tr style=\"text-align: right;\">\n",
       "      <th></th>\n",
       "      <th>name</th>\n",
       "      <th>iso_a3</th>\n",
       "      <th>currency_code</th>\n",
       "      <th>local_price</th>\n",
       "      <th>dollar_ex</th>\n",
       "      <th>GDP_dollar</th>\n",
       "      <th>GDP_local</th>\n",
       "      <th>date</th>\n",
       "      <th>dollar_price</th>\n",
       "      <th>USD</th>\n",
       "      <th>GDP_bigmac</th>\n",
       "      <th>Economy</th>\n",
       "      <th>iso_a3_2</th>\n",
       "      <th>Region</th>\n",
       "      <th>income_group</th>\n",
       "    </tr>\n",
       "  </thead>\n",
       "  <tbody>\n",
       "    <tr>\n",
       "      <th>1899</th>\n",
       "      <td>Romania</td>\n",
       "      <td>ROU</td>\n",
       "      <td>RON</td>\n",
       "      <td>11.0</td>\n",
       "      <td>4.82175</td>\n",
       "      <td>14667.089</td>\n",
       "      <td>6.102120e+04</td>\n",
       "      <td>2022-07-01</td>\n",
       "      <td>2.281329</td>\n",
       "      <td>-0.557023</td>\n",
       "      <td>28569.017768</td>\n",
       "      <td>Romania</td>\n",
       "      <td>ROU</td>\n",
       "      <td>Europe &amp; Central Asia</td>\n",
       "      <td>High income</td>\n",
       "    </tr>\n",
       "    <tr>\n",
       "      <th>1876</th>\n",
       "      <td>Indonesia</td>\n",
       "      <td>IDN</td>\n",
       "      <td>IDR</td>\n",
       "      <td>35000.0</td>\n",
       "      <td>14977.50000</td>\n",
       "      <td>4356.560</td>\n",
       "      <td>6.233566e+07</td>\n",
       "      <td>2022-07-01</td>\n",
       "      <td>2.336839</td>\n",
       "      <td>-0.546245</td>\n",
       "      <td>9172.246719</td>\n",
       "      <td>Indonesia</td>\n",
       "      <td>IDN</td>\n",
       "      <td>East Asia &amp; Pacific</td>\n",
       "      <td>Upper middle income</td>\n",
       "    </tr>\n",
       "  </tbody>\n",
       "</table>\n",
       "</div>"
      ],
      "text/plain": [
       "           name iso_a3 currency_code  local_price    dollar_ex  GDP_dollar  \\\n",
       "1899    Romania    ROU           RON         11.0      4.82175   14667.089   \n",
       "1876  Indonesia    IDN           IDR      35000.0  14977.50000    4356.560   \n",
       "\n",
       "         GDP_local       date  dollar_price       USD    GDP_bigmac  \\\n",
       "1899  6.102120e+04 2022-07-01      2.281329 -0.557023  28569.017768   \n",
       "1876  6.233566e+07 2022-07-01      2.336839 -0.546245   9172.246719   \n",
       "\n",
       "        Economy iso_a3_2                 Region         income_group  \n",
       "1899    Romania      ROU  Europe & Central Asia          High income  \n",
       "1876  Indonesia      IDN    East Asia & Pacific  Upper middle income  "
      ]
     },
     "execution_count": 20,
     "metadata": {},
     "output_type": "execute_result"
    }
   ],
   "source": [
    "df = df_all.query(\"date == date.max()\").sort_values(\"USD\")\n",
    "df.head(2)"
   ]
  },
  {
   "cell_type": "code",
   "execution_count": 21,
   "metadata": {},
   "outputs": [
    {
     "data": {
      "text/plain": [
       "Text(-0.2, 0.08, 'Source: \"Big Mac Index\" via economist.com')"
      ]
     },
     "execution_count": 21,
     "metadata": {},
     "output_type": "execute_result"
    },
    {
     "data": {
      "image/png": "[encoded data removed]",
      "text/plain": [
       "<Figure size 500x1000 with 1 Axes>"
      ]
     },
     "metadata": {},
     "output_type": "display_data"
    }
   ],
   "source": [
    "# | code-fold: true\n",
    "# | echo: true\n",
    "# | label: fig-big-mac-index\n",
    "# | fig-cap: \"Big Mac Index\"\n",
    "\n",
    "fig, ax = plt.subplots(figsize=(5, 10))\n",
    "ax.spines[[\"top\", \"right\", \"left\"]].set_visible(False)\n",
    "\n",
    "ax.set_title(\n",
    "    \"Big Mac Index\", loc=\"left\", weight=\"bold\", ha=\"left\", fontsize=15, x=-0.42\n",
    ")\n",
    "\n",
    "ax.text(\n",
    "    x=-0.2,\n",
    "    y=0.915,\n",
    "    s=\"Unadjusted index for 2022\",\n",
    "    transform=fig.transFigure,\n",
    "    ha=\"left\",\n",
    "    fontsize=9,\n",
    "    alpha=0.8,\n",
    ")\n",
    "\n",
    "\n",
    "# plotting the actual data\n",
    "\n",
    "# assigning each income group a color\n",
    "color_list = list(mcolors.TABLEAU_COLORS.values())\n",
    "colors = {country: color_list[i] for i, country in enumerate(df.income_group.unique())}\n",
    "\n",
    "# the actual plot\n",
    "ax.barh(\n",
    "    y=df.name,\n",
    "    width=df.USD,\n",
    "    alpha=0.85,\n",
    "    height=0.78,\n",
    "    color=[colors[income] for income in df.income_group],\n",
    "    zorder=2,\n",
    ")\n",
    "\n",
    "# x axis things\n",
    "ax.xaxis.tick_top()\n",
    "ax.set_xlabel(\n",
    "    \"                 <-- Undervalued              Overvalued --> \",\n",
    "    labelpad=10,\n",
    "    fontsize=11,\n",
    ")\n",
    "ax.xaxis.set_label_position(\"top\")\n",
    "\n",
    "# fix and label the y axis\n",
    "# ax.set_yticklabels(df.name, ha=\"left\")\n",
    "ax.yaxis.set_tick_params(pad=2, labelsize=9, bottom=False)\n",
    "ax.set_ylim(-1, df.shape[0])\n",
    "\n",
    "\n",
    "# legend for income groups\n",
    "handles = [mpatches.Patch(color=colors[i]) for i in colors]\n",
    "labels = [f\"{i}\" for i in colors]\n",
    "ax.legend(handles, labels, fontsize=8)\n",
    "ax.grid(which=\"major\", axis=\"x\", color=\"#758D99\", alpha=0.5, zorder=1)\n",
    "\n",
    "# Set source text\n",
    "ax.text(\n",
    "    x=-0.2,\n",
    "    y=0.08,\n",
    "    s=\"\"\"Source: \"Big Mac Index\" via economist.com\"\"\",\n",
    "    transform=fig.transFigure,\n",
    "    ha=\"left\",\n",
    "    fontsize=9,\n",
    "    alpha=0.7,\n",
    ")"
   ]
  },
  {
   "cell_type": "markdown",
   "metadata": {},
   "source": [
    "phew! That is a long image, with too many countries, and its a bit ugly, so if this was going to be used somewhere, I'd filter the countries and produce a more sensible sized graph."
   ]
  },
  {
   "cell_type": "markdown",
   "metadata": {},
   "source": [
    "## Big Mac Index using Plotly\n",
    "\n",
    "I should have probably gone with [plotly](https://plotly.com/graphing-libraries/) first for this, but here goes:"
   ]
  },
  {
   "cell_type": "code",
   "execution_count": 22,
   "metadata": {},
   "outputs": [
    {
     "data": {
      "application/vnd.plotly.v1+json": {
       "config": {
        "plotlyServerURL": "https://plot.ly"
       },
       "data": [
        {
         "alignmentgroup": "True",
         "hovertemplate": "income_group=High income<br>USD=%{x}<br>name=%{text}<extra></extra>",
         "legendgroup": "High income",
         "marker": {
          "color": "#636efa",
          "pattern": {
           "shape": ""
          }
         },
         "name": "High income",
         "offsetgroup": "High income",
         "orientation": "h",
         "showlegend": true,
         "text": [
          "Romania",
          "Taiwan",
          "Hungary",
          "Hong Kong",
          "Japan",
          "Latvia",
          "Lithuania",
          "Slovenia",
          "Estonia",
          "South Korea",
          "Qatar",
          "Poland",
          "Chile",
          "Croatia",
          "Oman",
          "Czech Republic",
          "Slovakia",
          "Greece",
          "Portugal",
          "Kuwait",
          "Singapore",
          "Bahrain",
          "New Zealand",
          "Britain",
          "Austria",
          "Saudi Arabia",
          "Netherlands",
          "Australia",
          "Spain",
          "Germany",
          "Belgium",
          "Euro area",
          "France",
          "United Arab Emirates",
          "Israel",
          "Ireland",
          "United States",
          "Italy",
          "Canada",
          "Finland",
          "Sweden",
          "Uruguay",
          "Norway",
          "Switzerland"
         ],
         "textposition": "auto",
         "type": "bar",
         "x": [
          -0.5570234188630503,
          -0.5130617137468358,
          -0.4859221714441847,
          -0.480548296114928,
          -0.4507079001936255,
          -0.4030596179283066,
          -0.39311061156044513,
          -0.36326359245686046,
          -0.32346756698541423,
          -0.31995593018756285,
          -0.30685196824049044,
          -0.30324410255971124,
          -0.2889171834783463,
          -0.2846074617958857,
          -0.2838229731433616,
          -0.2288209890573758,
          -0.22397750330679866,
          -0.20407949057107544,
          -0.20407949057107544,
          -0.1788315404488634,
          -0.17663427629641726,
          -0.17591614946820833,
          -0.14034854368932104,
          -0.13786295619081967,
          -0.13443644599604465,
          -0.12091321603557714,
          -0.10458942689245998,
          -0.10180970873786532,
          -0.08867101670388156,
          -0.08867101670388156,
          -0.08469141415673698,
          -0.07474240778887531,
          -0.06479340142101375,
          -0.04843505232219514,
          -0.039703596041714806,
          -0.00509936321384441,
          0,
          0.014798649521878593,
          0.019713072021189326,
          0.044645668625463486,
          0.08532300093142586,
          0.18144984745397563,
          0.21633265991991113,
          0.30325357254385565
         ],
         "xaxis": "x",
         "y": [
          "Romania",
          "Taiwan",
          "Hungary",
          "Hong Kong",
          "Japan",
          "Latvia",
          "Lithuania",
          "Slovenia",
          "Estonia",
          "South Korea",
          "Qatar",
          "Poland",
          "Chile",
          "Croatia",
          "Oman",
          "Czech Republic",
          "Slovakia",
          "Greece",
          "Portugal",
          "Kuwait",
          "Singapore",
          "Bahrain",
          "New Zealand",
          "Britain",
          "Austria",
          "Saudi Arabia",
          "Netherlands",
          "Australia",
          "Spain",
          "Germany",
          "Belgium",
          "Euro area",
          "France",
          "United Arab Emirates",
          "Israel",
          "Ireland",
          "United States",
          "Italy",
          "Canada",
          "Finland",
          "Sweden",
          "Uruguay",
          "Norway",
          "Switzerland"
         ],
         "yaxis": "y"
        },
        {
         "alignmentgroup": "True",
         "hovertemplate": "income_group=Upper middle income<br>USD=%{x}<br>name=%{text}<extra></extra>",
         "legendgroup": "Upper middle income",
         "marker": {
          "color": "#EF553B",
          "pattern": {
           "shape": ""
          }
         },
         "name": "Upper middle income",
         "offsetgroup": "Upper middle income",
         "orientation": "h",
         "showlegend": true,
         "text": [
          "Indonesia",
          "South Africa",
          "Malaysia",
          "Turkey",
          "Azerbaijan",
          "Moldova",
          "Guatemala",
          "Mexico",
          "Colombia",
          "Thailand",
          "China",
          "Peru",
          "Costa Rica",
          "Brazil",
          "Argentina"
         ],
         "textposition": "auto",
         "type": "bar",
         "x": [
          -0.5462449337436576,
          -0.5452301524376562,
          -0.5243809316024872,
          -0.4804319047974376,
          -0.4626107114834088,
          -0.39628534371990853,
          -0.34671208357763583,
          -0.3341220815819358,
          -0.3241338685108094,
          -0.3211507290668806,
          -0.3093297109595202,
          -0.30667014495457257,
          -0.24117488177182522,
          -0.17529523035237693,
          -0.1127049003127717
         ],
         "xaxis": "x",
         "y": [
          "Indonesia",
          "South Africa",
          "Malaysia",
          "Turkey",
          "Azerbaijan",
          "Moldova",
          "Guatemala",
          "Mexico",
          "Colombia",
          "Thailand",
          "China",
          "Peru",
          "Costa Rica",
          "Brazil",
          "Argentina"
         ],
         "yaxis": "y"
        },
        {
         "alignmentgroup": "True",
         "hovertemplate": "income_group=Lower middle income<br>USD=%{x}<br>name=%{text}<extra></extra>",
         "legendgroup": "Lower middle income",
         "marker": {
          "color": "#00cc96",
          "pattern": {
           "shape": ""
          }
         },
         "name": "Lower middle income",
         "offsetgroup": "Lower middle income",
         "orientation": "h",
         "showlegend": true,
         "text": [
          "India",
          "Egypt",
          "Philippines",
          "Vietnam",
          "Pakistan",
          "Jordan",
          "Honduras",
          "Sri Lanka",
          "Nicaragua"
         ],
         "textposition": "auto",
         "type": "bar",
         "x": [
          -0.5361253833173858,
          -0.5285279052546078,
          -0.4650833132739577,
          -0.4278490732191492,
          -0.387046989415615,
          -0.3711160434449443,
          -0.29792592329643497,
          -0.2772384034519957,
          -0.24797182328960932
         ],
         "xaxis": "x",
         "y": [
          "India",
          "Egypt",
          "Philippines",
          "Vietnam",
          "Pakistan",
          "Jordan",
          "Honduras",
          "Sri Lanka",
          "Nicaragua"
         ],
         "yaxis": "y"
        }
       ],
       "layout": {
        "barmode": "relative",
        "height": 800,
        "legend": {
         "title": {
          "text": "income_group"
         },
         "tracegroupgap": 0
        },
        "margin": {
         "t": 60
        },
        "template": {
         "data": {
          "bar": [
           {
            "error_x": {
             "color": "#2a3f5f"
            },
            "error_y": {
             "color": "#2a3f5f"
            },
            "marker": {
             "line": {
              "color": "#E5ECF6",
              "width": 0.5
             },
             "pattern": {
              "fillmode": "overlay",
              "size": 10,
              "solidity": 0.2
             }
            },
            "type": "bar"
           }
          ],
          "barpolar": [
           {
            "marker": {
             "line": {
              "color": "#E5ECF6",
              "width": 0.5
             },
             "pattern": {
              "fillmode": "overlay",
              "size": 10,
              "solidity": 0.2
             }
            },
            "type": "barpolar"
           }
          ],
          "carpet": [
           {
            "aaxis": {
             "endlinecolor": "#2a3f5f",
             "gridcolor": "white",
             "linecolor": "white",
             "minorgridcolor": "white",
             "startlinecolor": "#2a3f5f"
            },
            "baxis": {
             "endlinecolor": "#2a3f5f",
             "gridcolor": "white",
             "linecolor": "white",
             "minorgridcolor": "white",
             "startlinecolor": "#2a3f5f"
            },
            "type": "carpet"
           }
          ],
          "choropleth": [
           {
            "colorbar": {
             "outlinewidth": 0,
             "ticks": ""
            },
            "type": "choropleth"
           }
          ],
          "contour": [
           {
            "colorbar": {
             "outlinewidth": 0,
             "ticks": ""
            },
            "colorscale": [
             [
              0,
              "#0d0887"
             ],
             [
              0.1111111111111111,
              "#46039f"
             ],
             [
              0.2222222222222222,
              "#7201a8"
             ],
             [
              0.3333333333333333,
              "#9c179e"
             ],
             [
              0.4444444444444444,
              "#bd3786"
             ],
             [
              0.5555555555555556,
              "#d8576b"
             ],
             [
              0.6666666666666666,
              "#ed7953"
             ],
             [
              0.7777777777777778,
              "#fb9f3a"
             ],
             [
              0.8888888888888888,
              "#fdca26"
             ],
             [
              1,
              "#f0f921"
             ]
            ],
            "type": "contour"
           }
          ],
          "contourcarpet": [
           {
            "colorbar": {
             "outlinewidth": 0,
             "ticks": ""
            },
            "type": "contourcarpet"
           }
          ],
          "heatmap": [
           {
            "colorbar": {
             "outlinewidth": 0,
             "ticks": ""
            },
            "colorscale": [
             [
              0,
              "#0d0887"
             ],
             [
              0.1111111111111111,
              "#46039f"
             ],
             [
              0.2222222222222222,
              "#7201a8"
             ],
             [
              0.3333333333333333,
              "#9c179e"
             ],
             [
              0.4444444444444444,
              "#bd3786"
             ],
             [
              0.5555555555555556,
              "#d8576b"
             ],
             [
              0.6666666666666666,
              "#ed7953"
             ],
             [
              0.7777777777777778,
              "#fb9f3a"
             ],
             [
              0.8888888888888888,
              "#fdca26"
             ],
             [
              1,
              "#f0f921"
             ]
            ],
            "type": "heatmap"
           }
          ],
          "heatmapgl": [
           {
            "colorbar": {
             "outlinewidth": 0,
             "ticks": ""
            },
            "colorscale": [
             [
              0,
              "#0d0887"
             ],
             [
              0.1111111111111111,
              "#46039f"
             ],
             [
              0.2222222222222222,
              "#7201a8"
             ],
             [
              0.3333333333333333,
              "#9c179e"
             ],
             [
              0.4444444444444444,
              "#bd3786"
             ],
             [
              0.5555555555555556,
              "#d8576b"
             ],
             [
              0.6666666666666666,
              "#ed7953"
             ],
             [
              0.7777777777777778,
              "#fb9f3a"
             ],
             [
              0.8888888888888888,
              "#fdca26"
             ],
             [
              1,
              "#f0f921"
             ]
            ],
            "type": "heatmapgl"
           }
          ],
          "histogram": [
           {
            "marker": {
             "pattern": {
              "fillmode": "overlay",
              "size": 10,
              "solidity": 0.2
             }
            },
            "type": "histogram"
           }
          ],
          "histogram2d": [
           {
            "colorbar": {
             "outlinewidth": 0,
             "ticks": ""
            },
            "colorscale": [
             [
              0,
              "#0d0887"
             ],
             [
              0.1111111111111111,
              "#46039f"
             ],
             [
              0.2222222222222222,
              "#7201a8"
             ],
             [
              0.3333333333333333,
              "#9c179e"
             ],
             [
              0.4444444444444444,
              "#bd3786"
             ],
             [
              0.5555555555555556,
              "#d8576b"
             ],
             [
              0.6666666666666666,
              "#ed7953"
             ],
             [
              0.7777777777777778,
              "#fb9f3a"
             ],
             [
              0.8888888888888888,
              "#fdca26"
             ],
             [
              1,
              "#f0f921"
             ]
            ],
            "type": "histogram2d"
           }
          ],
          "histogram2dcontour": [
           {
            "colorbar": {
             "outlinewidth": 0,
             "ticks": ""
            },
            "colorscale": [
             [
              0,
              "#0d0887"
             ],
             [
              0.1111111111111111,
              "#46039f"
             ],
             [
              0.2222222222222222,
              "#7201a8"
             ],
             [
              0.3333333333333333,
              "#9c179e"
             ],
             [
              0.4444444444444444,
              "#bd3786"
             ],
             [
              0.5555555555555556,
              "#d8576b"
             ],
             [
              0.6666666666666666,
              "#ed7953"
             ],
             [
              0.7777777777777778,
              "#fb9f3a"
             ],
             [
              0.8888888888888888,
              "#fdca26"
             ],
             [
              1,
              "#f0f921"
             ]
            ],
            "type": "histogram2dcontour"
           }
          ],
          "mesh3d": [
           {
            "colorbar": {
             "outlinewidth": 0,
             "ticks": ""
            },
            "type": "mesh3d"
           }
          ],
          "parcoords": [
           {
            "line": {
             "colorbar": {
              "outlinewidth": 0,
              "ticks": ""
             }
            },
            "type": "parcoords"
           }
          ],
          "pie": [
           {
            "automargin": true,
            "type": "pie"
           }
          ],
          "scatter": [
           {
            "fillpattern": {
             "fillmode": "overlay",
             "size": 10,
             "solidity": 0.2
            },
            "type": "scatter"
           }
          ],
          "scatter3d": [
           {
            "line": {
             "colorbar": {
              "outlinewidth": 0,
              "ticks": ""
             }
            },
            "marker": {
             "colorbar": {
              "outlinewidth": 0,
              "ticks": ""
             }
            },
            "type": "scatter3d"
           }
          ],
          "scattercarpet": [
           {
            "marker": {
             "colorbar": {
              "outlinewidth": 0,
              "ticks": ""
             }
            },
            "type": "scattercarpet"
           }
          ],
          "scattergeo": [
           {
            "marker": {
             "colorbar": {
              "outlinewidth": 0,
              "ticks": ""
             }
            },
            "type": "scattergeo"
           }
          ],
          "scattergl": [
           {
            "marker": {
             "colorbar": {
              "outlinewidth": 0,
              "ticks": ""
             }
            },
            "type": "scattergl"
           }
          ],
          "scattermapbox": [
           {
            "marker": {
             "colorbar": {
              "outlinewidth": 0,
              "ticks": ""
             }
            },
            "type": "scattermapbox"
           }
          ],
          "scatterpolar": [
           {
            "marker": {
             "colorbar": {
              "outlinewidth": 0,
              "ticks": ""
             }
            },
            "type": "scatterpolar"
           }
          ],
          "scatterpolargl": [
           {
            "marker": {
             "colorbar": {
              "outlinewidth": 0,
              "ticks": ""
             }
            },
            "type": "scatterpolargl"
           }
          ],
          "scatterternary": [
           {
            "marker": {
             "colorbar": {
              "outlinewidth": 0,
              "ticks": ""
             }
            },
            "type": "scatterternary"
           }
          ],
          "surface": [
           {
            "colorbar": {
             "outlinewidth": 0,
             "ticks": ""
            },
            "colorscale": [
             [
              0,
              "#0d0887"
             ],
             [
              0.1111111111111111,
              "#46039f"
             ],
             [
              0.2222222222222222,
              "#7201a8"
             ],
             [
              0.3333333333333333,
              "#9c179e"
             ],
             [
              0.4444444444444444,
              "#bd3786"
             ],
             [
              0.5555555555555556,
              "#d8576b"
             ],
             [
              0.6666666666666666,
              "#ed7953"
             ],
             [
              0.7777777777777778,
              "#fb9f3a"
             ],
             [
              0.8888888888888888,
              "#fdca26"
             ],
             [
              1,
              "#f0f921"
             ]
            ],
            "type": "surface"
           }
          ],
          "table": [
           {
            "cells": {
             "fill": {
              "color": "#EBF0F8"
             },
             "line": {
              "color": "white"
             }
            },
            "header": {
             "fill": {
              "color": "#C8D4E3"
             },
             "line": {
              "color": "white"
             }
            },
            "type": "table"
           }
          ]
         },
         "layout": {
          "annotationdefaults": {
           "arrowcolor": "#2a3f5f",
           "arrowhead": 0,
           "arrowwidth": 1
          },
          "autotypenumbers": "strict",
          "coloraxis": {
           "colorbar": {
            "outlinewidth": 0,
            "ticks": ""
           }
          },
          "colorscale": {
           "diverging": [
            [
             0,
             "#8e0152"
            ],
            [
             0.1,
             "#c51b7d"
            ],
            [
             0.2,
             "#de77ae"
            ],
            [
             0.3,
             "#f1b6da"
            ],
            [
             0.4,
             "#fde0ef"
            ],
            [
             0.5,
             "#f7f7f7"
            ],
            [
             0.6,
             "#e6f5d0"
            ],
            [
             0.7,
             "#b8e186"
            ],
            [
             0.8,
             "#7fbc41"
            ],
            [
             0.9,
             "#4d9221"
            ],
            [
             1,
             "#276419"
            ]
           ],
           "sequential": [
            [
             0,
             "#0d0887"
            ],
            [
             0.1111111111111111,
             "#46039f"
            ],
            [
             0.2222222222222222,
             "#7201a8"
            ],
            [
             0.3333333333333333,
             "#9c179e"
            ],
            [
             0.4444444444444444,
             "#bd3786"
            ],
            [
             0.5555555555555556,
             "#d8576b"
            ],
            [
             0.6666666666666666,
             "#ed7953"
            ],
            [
             0.7777777777777778,
             "#fb9f3a"
            ],
            [
             0.8888888888888888,
             "#fdca26"
            ],
            [
             1,
             "#f0f921"
            ]
           ],
           "sequentialminus": [
            [
             0,
             "#0d0887"
            ],
            [
             0.1111111111111111,
             "#46039f"
            ],
            [
             0.2222222222222222,
             "#7201a8"
            ],
            [
             0.3333333333333333,
             "#9c179e"
            ],
            [
             0.4444444444444444,
             "#bd3786"
            ],
            [
             0.5555555555555556,
             "#d8576b"
            ],
            [
             0.6666666666666666,
             "#ed7953"
            ],
            [
             0.7777777777777778,
             "#fb9f3a"
            ],
            [
             0.8888888888888888,
             "#fdca26"
            ],
            [
             1,
             "#f0f921"
            ]
           ]
          },
          "colorway": [
           "#636efa",
           "#EF553B",
           "#00cc96",
           "#ab63fa",
           "#FFA15A",
           "#19d3f3",
           "#FF6692",
           "#B6E880",
           "#FF97FF",
           "#FECB52"
          ],
          "font": {
           "color": "#2a3f5f"
          },
          "geo": {
           "bgcolor": "white",
           "lakecolor": "white",
           "landcolor": "#E5ECF6",
           "showlakes": true,
           "showland": true,
           "subunitcolor": "white"
          },
          "hoverlabel": {
           "align": "left"
          },
          "hovermode": "closest",
          "mapbox": {
           "style": "light"
          },
          "paper_bgcolor": "white",
          "plot_bgcolor": "#E5ECF6",
          "polar": {
           "angularaxis": {
            "gridcolor": "white",
            "linecolor": "white",
            "ticks": ""
           },
           "bgcolor": "#E5ECF6",
           "radialaxis": {
            "gridcolor": "white",
            "linecolor": "white",
            "ticks": ""
           }
          },
          "scene": {
           "xaxis": {
            "backgroundcolor": "#E5ECF6",
            "gridcolor": "white",
            "gridwidth": 2,
            "linecolor": "white",
            "showbackground": true,
            "ticks": "",
            "zerolinecolor": "white"
           },
           "yaxis": {
            "backgroundcolor": "#E5ECF6",
            "gridcolor": "white",
            "gridwidth": 2,
            "linecolor": "white",
            "showbackground": true,
            "ticks": "",
            "zerolinecolor": "white"
           },
           "zaxis": {
            "backgroundcolor": "#E5ECF6",
            "gridcolor": "white",
            "gridwidth": 2,
            "linecolor": "white",
            "showbackground": true,
            "ticks": "",
            "zerolinecolor": "white"
           }
          },
          "shapedefaults": {
           "line": {
            "color": "#2a3f5f"
           }
          },
          "ternary": {
           "aaxis": {
            "gridcolor": "white",
            "linecolor": "white",
            "ticks": ""
           },
           "baxis": {
            "gridcolor": "white",
            "linecolor": "white",
            "ticks": ""
           },
           "bgcolor": "#E5ECF6",
           "caxis": {
            "gridcolor": "white",
            "linecolor": "white",
            "ticks": ""
           }
          },
          "title": {
           "x": 0.05
          },
          "xaxis": {
           "automargin": true,
           "gridcolor": "white",
           "linecolor": "white",
           "ticks": "",
           "title": {
            "standoff": 15
           },
           "zerolinecolor": "white",
           "zerolinewidth": 2
          },
          "yaxis": {
           "automargin": true,
           "gridcolor": "white",
           "linecolor": "white",
           "ticks": "",
           "title": {
            "standoff": 15
           },
           "zerolinecolor": "white",
           "zerolinewidth": 2
          }
         }
        },
        "title": {
         "text": "Big Mac Index"
        },
        "width": 600,
        "xaxis": {
         "anchor": "y",
         "domain": [
          0,
          1
         ],
         "title": {
          "text": "USD"
         }
        },
        "yaxis": {
         "anchor": "x",
         "categoryorder": "total ascending",
         "domain": [
          0,
          1
         ],
         "title": {
          "text": "name"
         }
        }
       }
      }
     },
     "metadata": {},
     "output_type": "display_data"
    }
   ],
   "source": [
    "fig = px.bar(\n",
    "    df, x=\"USD\", y=\"name\", width=600, height=800, text=\"name\", color=\"income_group\"\n",
    ")\n",
    "fig.update_layout(title_text=\"Big Mac Index\", yaxis_categoryorder=\"total ascending\")\n",
    "fig.show()"
   ]
  },
  {
   "cell_type": "markdown",
   "metadata": {},
   "source": [
    "## the end\n",
    "\n",
    "Can play around a bit more with this data... but heaps enough for now. "
   ]
  }
 ],
 "metadata": {
  "kernelspec": {
   "display_name": "Python 3 (ipykernel)",
   "language": "python",
   "name": "python3"
  },
  "language_info": {
   "codemirror_mode": {
    "name": "ipython",
    "version": 3
   },
   "file_extension": ".py",
   "mimetype": "text/x-python",
   "name": "python",
   "nbconvert_exporter": "python",
   "pygments_lexer": "ipython3",
   "version": "3.11.4"
  },
  "vscode": {
   "interpreter": {
    "hash": "883c462cc944106b75f7fc9f0d282d9e1cc9bc32850931fa64635440ff018769"
   }
  }
 },
 "nbformat": 4,
 "nbformat_minor": 4
}
