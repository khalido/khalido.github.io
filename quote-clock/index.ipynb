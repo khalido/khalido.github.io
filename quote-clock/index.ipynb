{
 "cells": [
  {
   "cell_type": "raw",
   "metadata": {},
   "source": [
    "---\n",
    "title: Literary Quote Clock\n",
    "date: 2023-09-11\n",
    "categories:\n",
    "- python\n",
    "code-fold: false\n",
    "toc: true\n",
    "---"
   ]
  },
  {
   "cell_type": "markdown",
   "metadata": {},
   "source": [
    "A raspberry pi project, inspired by [tjaap](https://www.instructables.com/Literary-Clock-Made-From-E-reader/). This python notebook is looking at the basics - how to get the data, parse it, display a quote, then moves on to create a repo and put the code onto the actual hardware.\n",
    "\n",
    "The primary source for quotes is the [guardian's user provided list](https://www.theguardian.com/books/table/2011/apr/21/literary-clock). This list is incomplete, and the guardian put up a bigger list in 2014 as a gsheet but thats no longer avaiable, so I found a more complete quotes list on [github](https://github.com/JohannesNE/literature-clock/tree/master).\n",
    "\n",
    "First up, making a list of times to check for missing times:"
   ]
  },
  {
   "cell_type": "code",
   "execution_count": 97,
   "metadata": {},
   "outputs": [],
   "source": [
    "# | echo: false\n",
    "import os\n",
    "import re\n",
    "import sys\n",
    "import json\n",
    "import requests\n",
    "import random\n",
    "import time  # https://docs.python.org/3/library/time.html\n",
    "from datetime import datetime, timezone, timedelta\n",
    "\n",
    "from dataclasses import dataclass\n",
    "import pandas as pd\n",
    "import seaborn as sns\n",
    "import matplotlib.pyplot as plt"
   ]
  },
  {
   "cell_type": "code",
   "execution_count": 153,
   "metadata": {},
   "outputs": [
    {
     "name": "stdout",
     "output_type": "stream",
     "text": [
      "['00:55', '00:56', '00:57', '00:58', '00:59', '01:00', '01:01', '01:02', '01:03', '01:04']\n"
     ]
    }
   ],
   "source": [
    "# a list containiner all 1,440 times\n",
    "times = [f\"{hour:02}:{minute:02}\" for hour in range(24) for minute in range(60)]\n",
    "assert len(times) == 60 * 24  # check for all 1,440 clock times\n",
    "print(times[55:65])  # check it looks good"
   ]
  },
  {
   "cell_type": "markdown",
   "metadata": {},
   "source": [
    "## The literary quotes\n",
    "\n",
    "I initial looked at the list of quotes on the guardian website from 2011, but that was really incomplete, so after some internet kungfu I moved on to a better [list of quotes maintained here](https://github.com/JohannesNE/literature-clock).\n",
    "\n",
    "That project already implements a literary clock, but ignoring that to make my own, here goes:"
   ]
  },
  {
   "cell_type": "code",
   "execution_count": 154,
   "metadata": {},
   "outputs": [
    {
     "data": {
      "text/html": [
       "<div>\n",
       "<style scoped>\n",
       "    .dataframe tbody tr th:only-of-type {\n",
       "        vertical-align: middle;\n",
       "    }\n",
       "\n",
       "    .dataframe tbody tr th {\n",
       "        vertical-align: top;\n",
       "    }\n",
       "\n",
       "    .dataframe thead th {\n",
       "        text-align: right;\n",
       "    }\n",
       "</style>\n",
       "<table border=\"1\" class=\"dataframe\">\n",
       "  <thead>\n",
       "    <tr style=\"text-align: right;\">\n",
       "      <th></th>\n",
       "      <th>time</th>\n",
       "      <th>annot</th>\n",
       "      <th>quote</th>\n",
       "      <th>title</th>\n",
       "      <th>author</th>\n",
       "      <th>nsfw</th>\n",
       "    </tr>\n",
       "  </thead>\n",
       "  <tbody>\n",
       "    <tr>\n",
       "      <th>2854</th>\n",
       "      <td>22:00</td>\n",
       "      <td>ten</td>\n",
       "      <td>By ten, Quoyle was drunk. The crowd was enormo...</td>\n",
       "      <td>The Shipping News</td>\n",
       "      <td>E. Annie Proulx</td>\n",
       "      <td>unknown</td>\n",
       "    </tr>\n",
       "    <tr>\n",
       "      <th>210</th>\n",
       "      <td>01:30</td>\n",
       "      <td>1:30 A.M.</td>\n",
       "      <td>Around 1:30 A.M. the door opened and I thought...</td>\n",
       "      <td>Microserfs</td>\n",
       "      <td>Douglas Coupland</td>\n",
       "      <td>unknown</td>\n",
       "    </tr>\n",
       "    <tr>\n",
       "      <th>1596</th>\n",
       "      <td>12:00</td>\n",
       "      <td>Noon</td>\n",
       "      <td>The Birds begun at Four o'clock&lt;br/&gt;Their peri...</td>\n",
       "      <td>The Birds Begun at Four o'clock</td>\n",
       "      <td>Emily Dickinson</td>\n",
       "      <td>unknown</td>\n",
       "    </tr>\n",
       "    <tr>\n",
       "      <th>1878</th>\n",
       "      <td>14:31</td>\n",
       "      <td>thirty-one minutes past two</td>\n",
       "      <td>Igor checked the time again. He didn't really;...</td>\n",
       "      <td>The Vampire's Treaty</td>\n",
       "      <td>Matt Shaw</td>\n",
       "      <td>sfw</td>\n",
       "    </tr>\n",
       "  </tbody>\n",
       "</table>\n",
       "</div>"
      ],
      "text/plain": [
       "       time                        annot  \\\n",
       "2854  22:00                          ten   \n",
       "210   01:30                    1:30 A.M.   \n",
       "1596  12:00                         Noon   \n",
       "1878  14:31  thirty-one minutes past two   \n",
       "\n",
       "                                                  quote  \\\n",
       "2854  By ten, Quoyle was drunk. The crowd was enormo...   \n",
       "210   Around 1:30 A.M. the door opened and I thought...   \n",
       "1596  The Birds begun at Four o'clock<br/>Their peri...   \n",
       "1878  Igor checked the time again. He didn't really;...   \n",
       "\n",
       "                                title            author     nsfw  \n",
       "2854                The Shipping News   E. Annie Proulx  unknown  \n",
       "210                        Microserfs  Douglas Coupland  unknown  \n",
       "1596  The Birds Begun at Four o'clock   Emily Dickinson  unknown  \n",
       "1878             The Vampire's Treaty         Matt Shaw      sfw  "
      ]
     },
     "execution_count": 154,
     "metadata": {},
     "output_type": "execute_result"
    }
   ],
   "source": [
    "url = \"https://raw.githubusercontent.com/JohannesNE/literature-clock/master/litclock_annotated.csv\"\n",
    "\n",
    "df = pd.read_csv(\n",
    "    url, sep=\"|\", names=[\"time\", \"annot\", \"quote\", \"title\", \"author\", \"nsfw\"]\n",
    ")\n",
    "\n",
    "df.sample(4)"
   ]
  },
  {
   "cell_type": "markdown",
   "metadata": {},
   "source": [
    "Some basic data checks:"
   ]
  },
  {
   "cell_type": "code",
   "execution_count": 158,
   "metadata": {},
   "outputs": [
    {
     "name": "stdout",
     "output_type": "stream",
     "text": [
      "21 time values missing: ['02:49', '03:24', '06:03', '06:07', '06:18', '06:47', '07:41', '08:21', '10:28', '11:16', '11:46', '12:31', '13:19', '13:36', '14:23', '15:31', '17:46', '18:14', '18:44', '21:06', '21:14']\n",
      "\n",
      "886 times have exactly 1 quote, 533 times have more than 1 quote.\n"
     ]
    },
    {
     "data": {
      "image/png": "[encoded data removed]",
      "text/plain": [
       "<Figure size 800x200 with 1 Axes>"
      ]
     },
     "metadata": {},
     "output_type": "display_data"
    }
   ],
   "source": [
    "missing_times = [time for time in times if time not in df.time.values]\n",
    "print(f\"{len(missing_times)} time values missing: {missing_times}\")\n",
    "\n",
    "single_quote = sum(df.groupby(\"time\").count().title == 1)\n",
    "multiple_quotes = sum(df.groupby(\"time\").count().title > 1)\n",
    "\n",
    "print(\n",
    "    f\"\\n{single_quote} times have exactly 1 quote, {multiple_quotes} times have more than 1 quote.\"\n",
    ")\n",
    "\n",
    "ax = (\n",
    "    df[[\"time\", \"title\"]]\n",
    "    .groupby(\"time\")\n",
    "    .count()[df.groupby(\"time\").count().title > 6]\n",
    "    .plot.bar(title=\"Times with quotes > 6\", figsize=(8, 2))\n",
    ")"
   ]
  },
  {
   "cell_type": "markdown",
   "metadata": {},
   "source": [
    "So we now have a dataframe full of quotes. I'll deal with the 21 missing quotes later.\n",
    "\n",
    "The gthub repo produced a folder full of json files, one for each time stamp, so I could just re-use that, but whats the fun of that. "
   ]
  },
  {
   "cell_type": "markdown",
   "metadata": {},
   "source": [
    "### Spliting up quotes\n",
    "\n",
    "Ideally, we want the current time in the quote highlighted. The csv file has a col `annot` which is the time part of the quote string. Initially I tried to use regex to split the string, but since the time is in so many different formats it has to be done manually, hence the `annot` col.\n",
    "\n",
    "The time can contain special characters like `[]` so [re.escape](https://docs.python.org/3/library/re.html?highlight=escape#re.escape) fixes that. I had to use re.split instead of str.split here as only re.split has a ignorecase feature."
   ]
  },
  {
   "cell_type": "code",
   "execution_count": 159,
   "metadata": {},
   "outputs": [
    {
     "data": {
      "text/html": [
       "<div>\n",
       "<style scoped>\n",
       "    .dataframe tbody tr th:only-of-type {\n",
       "        vertical-align: middle;\n",
       "    }\n",
       "\n",
       "    .dataframe tbody tr th {\n",
       "        vertical-align: top;\n",
       "    }\n",
       "\n",
       "    .dataframe thead th {\n",
       "        text-align: right;\n",
       "    }\n",
       "</style>\n",
       "<table border=\"1\" class=\"dataframe\">\n",
       "  <thead>\n",
       "    <tr style=\"text-align: right;\">\n",
       "      <th></th>\n",
       "      <th>time</th>\n",
       "      <th>annot</th>\n",
       "      <th>quote</th>\n",
       "      <th>title</th>\n",
       "      <th>author</th>\n",
       "      <th>nsfw</th>\n",
       "      <th>prefix</th>\n",
       "      <th>suffix</th>\n",
       "    </tr>\n",
       "  </thead>\n",
       "  <tbody>\n",
       "    <tr>\n",
       "      <th>2453</th>\n",
       "      <td>19:00</td>\n",
       "      <td>seven o’clock</td>\n",
       "      <td>“Yes, seven o’clock. I will bring dessert.” Sm...</td>\n",
       "      <td>The Catacombs</td>\n",
       "      <td>Jeremy Bates</td>\n",
       "      <td>unknown</td>\n",
       "      <td>“Yes,</td>\n",
       "      <td>. I will bring dessert.” Smiling in her sad-ha...</td>\n",
       "    </tr>\n",
       "    <tr>\n",
       "      <th>612</th>\n",
       "      <td>05:00</td>\n",
       "      <td>five in the morning</td>\n",
       "      <td>I did Danièle’s math in my head. “If we start ...</td>\n",
       "      <td>The Catacombs</td>\n",
       "      <td>Jeremy Bates</td>\n",
       "      <td>unknown</td>\n",
       "      <td>I did Danièle’s math in my head. “If we start ...</td>\n",
       "      <td>. Seven hours back, it won’t be noon until we ...</td>\n",
       "    </tr>\n",
       "    <tr>\n",
       "      <th>685</th>\n",
       "      <td>05:42</td>\n",
       "      <td>eighteen minutes to six</td>\n",
       "      <td>At eighteen minutes to six, they blew the wall...</td>\n",
       "      <td>A Gentleman's Game</td>\n",
       "      <td>Greg Rucka</td>\n",
       "      <td>sfw</td>\n",
       "      <td>At</td>\n",
       "      <td>, they blew the wall, and even then, it was al...</td>\n",
       "    </tr>\n",
       "  </tbody>\n",
       "</table>\n",
       "</div>"
      ],
      "text/plain": [
       "       time                    annot  \\\n",
       "2453  19:00            seven o’clock   \n",
       "612   05:00      five in the morning   \n",
       "685   05:42  eighteen minutes to six   \n",
       "\n",
       "                                                  quote               title  \\\n",
       "2453  “Yes, seven o’clock. I will bring dessert.” Sm...       The Catacombs   \n",
       "612   I did Danièle’s math in my head. “If we start ...       The Catacombs   \n",
       "685   At eighteen minutes to six, they blew the wall...  A Gentleman's Game   \n",
       "\n",
       "            author     nsfw  \\\n",
       "2453  Jeremy Bates  unknown   \n",
       "612   Jeremy Bates  unknown   \n",
       "685     Greg Rucka      sfw   \n",
       "\n",
       "                                                 prefix  \\\n",
       "2453                                             “Yes,    \n",
       "612   I did Danièle’s math in my head. “If we start ...   \n",
       "685                                                 At    \n",
       "\n",
       "                                                 suffix  \n",
       "2453  . I will bring dessert.” Smiling in her sad-ha...  \n",
       "612   . Seven hours back, it won’t be noon until we ...  \n",
       "685   , they blew the wall, and even then, it was al...  "
      ]
     },
     "execution_count": 159,
     "metadata": {},
     "output_type": "execute_result"
    }
   ],
   "source": [
    "def split_quote(row):\n",
    "    \"\"\"adds a prefix and suffix to the quote.\"\"\"\n",
    "    prefix, suffix = re.split(\n",
    "        re.escape(row.annot), row.quote, maxsplit=1, flags=re.IGNORECASE\n",
    "    )\n",
    "    row[\"prefix\"] = prefix\n",
    "    row[\"suffix\"] = suffix\n",
    "    return row\n",
    "\n",
    "\n",
    "df = df.apply(split_quote, axis=1)\n",
    "df.sample(3)"
   ]
  },
  {
   "cell_type": "markdown",
   "metadata": {},
   "source": [
    "I can now display the quote with the time highlighted, an example below in markdown format:"
   ]
  },
  {
   "cell_type": "code",
   "execution_count": 161,
   "metadata": {},
   "outputs": [
    {
     "data": {
      "text/plain": [
       "'It was **half-past twelve** when I returned to the Albany as a last desperate resort. The scene of my disaster was much as I had left it. The baccarat-counters still strewed the table, with the empty glasses and the loaded ash-trays. A window had been opened to let the smoke out, and was letting in the fog instead.'"
      ]
     },
     "execution_count": 161,
     "metadata": {},
     "output_type": "execute_result"
    }
   ],
   "source": [
    "row = df.iloc[100]\n",
    "f\"{row.prefix}**{row.annot}**{row.suffix}\""
   ]
  },
  {
   "cell_type": "markdown",
   "metadata": {},
   "source": [
    "### Saving quotes to disk\n",
    "\n",
    "First up, saving a single json object containing all the quotes, which is easy to use:"
   ]
  },
  {
   "cell_type": "code",
   "execution_count": 176,
   "metadata": {},
   "outputs": [
    {
     "name": "stdout",
     "output_type": "stream",
     "text": [
      "1,419 keys which look like: ['00:40', '00:41', '00:42', '00:43']\n"
     ]
    },
    {
     "data": {
      "text/plain": [
       "{'annot': ['one-forty am'],\n",
       " 'quote': ['March twelfth, one-forty am, she leaves a group of drinking buddies to catch a bus home. She never makes it.'],\n",
       " 'title': ['Bones to Ashes'],\n",
       " 'author': ['Kathy Reichs'],\n",
       " 'nsfw': ['unknown'],\n",
       " 'prefix': ['March twelfth, '],\n",
       " 'suffix': [', she leaves a group of drinking buddies to catch a bus home. She never makes it.']}"
      ]
     },
     "execution_count": 176,
     "metadata": {},
     "output_type": "execute_result"
    }
   ],
   "source": [
    "# returns a string representing the json\n",
    "quotes_json = df.groupby(\"time\").agg(list).to_json(orient=\"index\")\n",
    "\n",
    "# writes the json to disk\n",
    "df.groupby(\"time\").agg(list).to_json(\"quotes.json\", orient=\"index\", compression=None)\n",
    "\n",
    "# read the quotes from disk\n",
    "with open(\"quotes.json\", \"r\") as f:\n",
    "    quotes = json.load(f)\n",
    "\n",
    "print(f\"{len(quotes):,} keys which look like: {list(quotes.keys())[40:44]}\")\n",
    "quotes[\"01:40\"]"
   ]
  },
  {
   "cell_type": "markdown",
   "metadata": {},
   "source": [
    "### Save each minute as a seperate file\n",
    "\n",
    "I'm using a raspberry pi pico w, it doesn't have enough memory to contain the ~2k quotes. So I'm going to write a json file for every minute, and open and close each file as needed.\n",
    "\n",
    "I'm keeping only the columns needed to save on diskspace:"
   ]
  },
  {
   "cell_type": "code",
   "execution_count": 186,
   "metadata": {},
   "outputs": [
    {
     "data": {
      "text/plain": [
       "'1,419 json files total 931.76kb'"
      ]
     },
     "execution_count": 186,
     "metadata": {},
     "output_type": "execute_result"
    }
   ],
   "source": [
    "for key in df.time.unique():\n",
    "    df[[\"time\", \"annot\", \"prefix\", \"suffix\", \"title\", \"author\"]].query(\n",
    "        \"time==@key\"\n",
    "    ).groupby(\"time\").agg(list).to_json(f\"quotes/{key}.json\", orient=\"index\")\n",
    "\n",
    "# Checking the total size of the many quote files\n",
    "quotes_size = (\n",
    "    sum([os.path.getsize(f\"quotes/{f}\") for f in os.listdir(\"quotes\")]) / 10**3\n",
    ")\n",
    "f\"{len(os.listdir('quotes')):,} json files total {quotes_size:.2f}kb\""
   ]
  },
  {
   "cell_type": "markdown",
   "metadata": {},
   "source": [
    "I can compress these to save further on space, which I'll get to later if needed. Its nice to have a human readable json string rather than a binary object on the pico for future poking around."
   ]
  },
  {
   "cell_type": "markdown",
   "metadata": {},
   "source": [
    "## Get current time and display quote\n",
    "\n",
    "Micropython has a [time](https://docs.micropython.org/en/latest/library/time.html) module, which is a subset of the [built in python time library](https://docs.python.org/3/library/time.html). The pi's clock needs to be synced on boot with a timeserver, leaving that for the future...\n",
    "\n",
    "Right now, I get the current time, than open the json file for that timestamp, select a random quote from it and return it."
   ]
  },
  {
   "cell_type": "code",
   "execution_count": 217,
   "metadata": {},
   "outputs": [
    {
     "name": "stdout",
     "output_type": "stream",
     "text": [
      "quote dict keys: dict_keys(['annot', 'prefix', 'suffix', 'title', 'author'])\n",
      "\n",
      "It was now **eight minutes to eleven**, and he began to feel rather cross and impatient. There was nothing to do in the big, ugly, stately room into which he had been shown.\n"
     ]
    },
    {
     "data": {
      "text/plain": [
       "'From Out of the Vasty Deep by Marie Belloc Lowndes'"
      ]
     },
     "execution_count": 217,
     "metadata": {},
     "output_type": "execute_result"
    }
   ],
   "source": [
    "def get_time():\n",
    "    \"\"\"returns current time in 00:00 format\"\"\"\n",
    "    time_now = time.localtime()\n",
    "    return f\"{time_now.tm_hour}:{time_now.tm_min}\"\n",
    "\n",
    "\n",
    "def get_quote(time_str=None):\n",
    "    \"\"\"returns a dict containing a single quote for a given time\"\"\"\n",
    "    if time_str is None:\n",
    "        time_str = get_time()\n",
    "\n",
    "    # open json file\n",
    "    with open(f\"quotes/{time_str}.json\", \"r\") as f:\n",
    "        quote = json.load(f)[time_str]\n",
    "\n",
    "    i = random.randint(0, len(quote[\"title\"]) - 1)\n",
    "    return {key: quote[key][i] for key in quote.keys()}\n",
    "\n",
    "\n",
    "quote = get_quote()\n",
    "print(f\"quote dict keys: {quote.keys()}\")\n",
    "print(f\"\\n{quote['prefix']}**{quote['annot']}**{quote['suffix']}\")\n",
    "f\"{quote['title']} by {quote['author']}\""
   ]
  },
  {
   "cell_type": "markdown",
   "metadata": {},
   "source": [
    "That seems to be working well, so now I should be able to assemble the pieces and display this on a raspberry pico display."
   ]
  },
  {
   "cell_type": "markdown",
   "metadata": {},
   "source": [
    "## Raspberry Pi Pico\n",
    "\n",
    "Allright, now that I have the basics ready to go, here goes putting this on a pi pico. First up, we need a github repo. "
   ]
  },
  {
   "cell_type": "markdown",
   "metadata": {},
   "source": [
    "## Misc\n",
    "\n",
    "Things not needed anymore, left in case they are useful in the future.\n",
    "\n",
    "### Guardian quotes from 2011\n",
    "\n",
    "Guardian clock quotes from 2011, left below as a pandas exercise in fetching a table from a html page and some basic transformations to be able to use it."
   ]
  },
  {
   "cell_type": "code",
   "execution_count": 677,
   "metadata": {},
   "outputs": [
    {
     "name": "stdout",
     "output_type": "stream",
     "text": [
      "(935, 4) quotes, so missing a lot!\n"
     ]
    },
    {
     "data": {
      "text/html": [
       "<div>\n",
       "<style scoped>\n",
       "    .dataframe tbody tr th:only-of-type {\n",
       "        vertical-align: middle;\n",
       "    }\n",
       "\n",
       "    .dataframe tbody tr th {\n",
       "        vertical-align: top;\n",
       "    }\n",
       "\n",
       "    .dataframe thead th {\n",
       "        text-align: right;\n",
       "    }\n",
       "</style>\n",
       "<table border=\"1\" class=\"dataframe\">\n",
       "  <thead>\n",
       "    <tr style=\"text-align: right;\">\n",
       "      <th></th>\n",
       "      <th>time</th>\n",
       "      <th>quote</th>\n",
       "      <th>title</th>\n",
       "      <th>author</th>\n",
       "    </tr>\n",
       "  </thead>\n",
       "  <tbody>\n",
       "    <tr>\n",
       "      <th>204</th>\n",
       "      <td>07:10:00h</td>\n",
       "      <td>A search in Bradshaw informed me that a train ...</td>\n",
       "      <td>The 39 Steps</td>\n",
       "      <td>John Buchan</td>\n",
       "    </tr>\n",
       "    <tr>\n",
       "      <th>409</th>\n",
       "      <td>11:15:00h</td>\n",
       "      <td>The first time I saw them it was around eleven...</td>\n",
       "      <td>Where I'm Calling From</td>\n",
       "      <td>Raymond Carver</td>\n",
       "    </tr>\n",
       "  </tbody>\n",
       "</table>\n",
       "</div>"
      ],
      "text/plain": [
       "          time                                              quote  \\\n",
       "204  07:10:00h  A search in Bradshaw informed me that a train ...   \n",
       "409  11:15:00h  The first time I saw them it was around eleven...   \n",
       "\n",
       "                      title          author  \n",
       "204            The 39 Steps     John Buchan  \n",
       "409  Where I'm Calling From  Raymond Carver  "
      ]
     },
     "execution_count": 677,
     "metadata": {},
     "output_type": "execute_result"
    }
   ],
   "source": [
    "clock_url = \"https://www.theguardian.com/books/table/2011/apr/21/literary-clock\"\n",
    "\n",
    "df_quotes = (\n",
    "    pd.read_html(clock_url)[0]  # get first table\n",
    "    .rename(\n",
    "        columns={\n",
    "            \"Time of quote\": \"time\",\n",
    "            \"Quote\": \"quote\",\n",
    "            \"Title of book\": \"title\",\n",
    "            \"Author\": \"author\",\n",
    "        }\n",
    "    )\n",
    "    .sort_values(by=\"time\")\n",
    "    .drop(columns=[\"Your username\"])  # no need for this col\n",
    "    .dropna(subset=[\"quote\"])  # drop blank rows at end\n",
    ")\n",
    "\n",
    "# fix some wonky time strings\n",
    "df_quotes.time = df_quotes.time.str.replace(\".\", \":\")\n",
    "\n",
    "print(f\"{df_quotes.shape} quotes, so missing a lot!\")\n",
    "df_quotes.sample(2)"
   ]
  },
  {
   "cell_type": "markdown",
   "metadata": {},
   "source": [
    "There is a 2014 Guardlian list, but looks like that was a google sheet which they have now taken down."
   ]
  }
 ],
 "metadata": {
  "kernelspec": {
   "display_name": "Python 3 (ipykernel)",
   "language": "python",
   "name": "python3"
  },
  "language_info": {
   "codemirror_mode": {
    "name": "ipython",
    "version": 3
   },
   "file_extension": ".py",
   "mimetype": "text/x-python",
   "name": "python",
   "nbconvert_exporter": "python",
   "pygments_lexer": "ipython3",
   "version": "3.11.4"
  },
  "vscode": {
   "interpreter": {
    "hash": "883c462cc944106b75f7fc9f0d282d9e1cc9bc32850931fa64635440ff018769"
   }
  }
 },
 "nbformat": 4,
 "nbformat_minor": 4
}
